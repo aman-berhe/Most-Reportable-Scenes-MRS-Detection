{
 "cells": [
  {
   "cell_type": "code",
   "execution_count": 1,
   "metadata": {},
   "outputs": [],
   "source": [
    "import numpy as np\n",
    "import pandas as pd\n",
    "import pickle\n",
    "import glob\n",
    "import sys\n",
    "import os\n",
    "import preprocessAudioFeat as paf\n",
    "from sklearn.model_selection import train_test_split"
   ]
  },
  {
   "cell_type": "code",
   "execution_count": 2,
   "metadata": {},
   "outputs": [],
   "source": [
    "mfcc,melspectogram,tempo,spec_centroids,vggFeat=paf.loadAllFeat()\n",
    "#All of the features have 444 scene hence 444 examples\n",
    "#print(len(mfcc),len(melspectogram),len(tempo),len(spec_centroids),len(vggFeat))"
   ]
  },
  {
   "cell_type": "code",
   "execution_count": 33,
   "metadata": {},
   "outputs": [
    {
     "name": "stdout",
     "output_type": "stream",
     "text": [
      "[[-3.53455627e+02 -3.40012543e+02 -3.37473663e+02 ... -3.28770172e+02\n",
      "  -3.32831177e+02 -3.33314606e+02]\n",
      " [ 1.45889313e+02  1.25286804e+02  9.70154724e+01 ...  1.25044693e+02\n",
      "   1.28101395e+02  1.07912674e+02]\n",
      " [-1.04868889e+00 -1.47121680e+00 -6.78785610e+00 ...  3.95303440e+00\n",
      "  -5.36252356e+00 -3.06213112e+01]\n",
      " ...\n",
      " [ 3.29133892e+00  2.23906374e+00 -2.88888645e+00 ...  1.68144393e+00\n",
      "  -5.55808020e+00 -1.18456459e+01]\n",
      " [ 8.72439981e-01  3.28934932e+00  2.86855817e+00 ...  3.34232020e+00\n",
      "  -2.43671656e+00 -2.90386081e+00]\n",
      " [-5.06280041e+00 -2.06908655e+00  1.61811733e+00 ... -5.12979317e+00\n",
      "  -1.34860635e-01  2.61833096e+00]]\n"
     ]
    }
   ],
   "source": [
    "print(mfcc[0:20][0])"
   ]
  },
  {
   "cell_type": "code",
   "execution_count": 2,
   "metadata": {},
   "outputs": [],
   "source": [
    "#Labels and scene strt and end time are used from the annotated dataset.\n",
    "dataset_Df=pd.read_csv(\"Scene_Dataset_Normalized.csv\")\n",
    "sceneLabels=dataset_Df.MRS.tolist()\n",
    "pos_mrs=[i for i in range(len(sceneLabels)) if sceneLabels[i]!=0]\n",
    "labels=[i if i==0 else 1 for i in  sceneLabels]"
   ]
  },
  {
   "cell_type": "code",
   "execution_count": 5,
   "metadata": {},
   "outputs": [
    {
     "name": "stdout",
     "output_type": "stream",
     "text": [
      "We have 72 MRS\n",
      "[1, 5, 27, 30, 33, 37, 40, 41, 45, 53, 54, 78, 103, 104, 109, 113, 129, 130, 132, 133, 136, 142, 146, 153, 157, 166, 167, 183, 186, 197, 209, 214, 216, 230, 233, 240, 246, 251, 257, 258, 259, 264, 265, 271, 288, 294, 295, 309, 312, 313, 331, 333, 336, 338, 341, 344, 347, 348, 360, 366, 375, 382, 413, 416, 420, 422, 426, 432, 434, 439, 440, 443]\n"
     ]
    }
   ],
   "source": [
    "#MRS scenes are \n",
    "print(\"We have {} MRS\".format(labels.count(1)))\n",
    "print(pos_mrs)"
   ]
  },
  {
   "cell_type": "code",
   "execution_count": 6,
   "metadata": {},
   "outputs": [],
   "source": [
    "indices = np.arange(len(melspectogram))\n",
    "x_train, x_test, y_train, y_test, idx1, idx2 = train_test_split(melspectogram, labels, indices, test_size=0.25, random_state = 42)"
   ]
  },
  {
   "cell_type": "code",
   "execution_count": 9,
   "metadata": {},
   "outputs": [
    {
     "data": {
      "text/plain": [
       "((128, 3112), (128, 5918), (128, 6653))"
      ]
     },
     "execution_count": 9,
     "metadata": {},
     "output_type": "execute_result"
    }
   ],
   "source": [
    "melspectogram[0].shape,x_train[0].shape,x_test[0].shape"
   ]
  },
  {
   "cell_type": "code",
   "execution_count": 8,
   "metadata": {},
   "outputs": [
    {
     "data": {
      "text/plain": [
       "(444, 333, 111)"
      ]
     },
     "execution_count": 8,
     "metadata": {},
     "output_type": "execute_result"
    }
   ],
   "source": [
    "len(melspectogram),len(x_train),len(x_test)"
   ]
  },
  {
   "cell_type": "code",
   "execution_count": 11,
   "metadata": {},
   "outputs": [],
   "source": [
    "pickle.dump(x_train,open(\"Data/TrainingData/mel_x_training\",\"wb\"))\n",
    "pickle.dump(y_train,open(\"Data/TrainingData/mel_y_train\",\"wb\"))\n",
    "pickle.dump(x_test,open(\"Data/TestData/mel_x_test\",\"wb\"))\n",
    "pickle.dump(y_test,open(\"Data/TestData/mel_y_test\",\"wb\"))"
   ]
  },
  {
   "cell_type": "code",
   "execution_count": 36,
   "metadata": {},
   "outputs": [
    {
     "data": {
      "text/plain": [
       "(333, 111)"
      ]
     },
     "execution_count": 36,
     "metadata": {},
     "output_type": "execute_result"
    }
   ],
   "source": [
    "#The split data have\n",
    "len(x_train),len(x_test)"
   ]
  },
  {
   "cell_type": "code",
   "execution_count": 37,
   "metadata": {},
   "outputs": [],
   "source": [
    "posMRS_trainig=[]\n",
    "for i in idx1:\n",
    "    if labels[i]==1:\n",
    "        posMRS_trainig.append(i+1)\n",
    "posMRS_trainig.sort()"
   ]
  },
  {
   "cell_type": "code",
   "execution_count": 38,
   "metadata": {},
   "outputs": [
    {
     "name": "stdout",
     "output_type": "stream",
     "text": [
      "[2, 28, 38, 41, 42, 54, 55, 104, 110, 130, 131, 134, 137, 143, 147, 167, 168, 184, 187, 198, 210, 215, 217, 231, 234, 241, 252, 258, 259, 260, 265, 266, 272, 289, 296, 310, 314, 334, 337, 339, 342, 345, 348, 349, 361, 367, 376, 383, 414, 417, 427, 433, 441, 444]\n"
     ]
    }
   ],
   "source": [
    "#MRS scenes inside the training data\n",
    "print(posMRS_trainig)"
   ]
  },
  {
   "cell_type": "code",
   "execution_count": 40,
   "metadata": {},
   "outputs": [
    {
     "name": "stdout",
     "output_type": "stream",
     "text": [
      "[0, 0, 0, 0, 0, 1, 0, 0, 0, 0, 0, 1, 0, 0, 1, 0, 0, 0, 0, 0, 0, 0, 0, 0, 1, 0, 1, 0, 0, 0, 0, 0, 0, 0, 1, 0, 0, 0, 1, 0, 0, 0, 0, 0, 0, 0, 0, 1, 0, 0, 0, 1, 0, 0, 0, 0, 0, 0, 0, 0, 1, 0, 0, 0, 0, 0, 1, 0, 0, 0, 0, 0, 0, 0, 0, 0, 1, 0, 0, 0, 0, 0, 0, 0, 0, 0, 0, 0, 0, 0, 0, 0, 1, 0, 0, 0, 0, 0, 1, 0, 0, 0, 0, 0, 0, 1, 0, 1, 1, 1, 0]\n"
     ]
    }
   ],
   "source": [
    "print(y_test)"
   ]
  },
  {
   "cell_type": "code",
   "execution_count": 46,
   "metadata": {},
   "outputs": [
    {
     "data": {
      "text/plain": [
       "54"
      ]
     },
     "execution_count": 46,
     "metadata": {},
     "output_type": "execute_result"
    }
   ],
   "source": [
    "len(posMRS_trainig)"
   ]
  },
  {
   "cell_type": "code",
   "execution_count": 47,
   "metadata": {},
   "outputs": [],
   "source": [
    "l=[130, 131, 2, 258, 134, 259, 260, 137, 265, 266, 143, 272, 147, 27, 28, 414, 289, 417, 38, 167, 168, 296, 41, 42, 427, 433, 310, 54, 184, 441, 314, 187, 444, 55, 198, 334, 337, 210, 339, 342, 215, 217, 345, 348, 349, 231, 104, 361, 234, 110, 367, 241, 376, 252, 383]"
   ]
  },
  {
   "cell_type": "code",
   "execution_count": 48,
   "metadata": {},
   "outputs": [
    {
     "name": "stdout",
     "output_type": "stream",
     "text": [
      "[2, 27, 28, 38, 41, 42, 54, 55, 104, 110, 130, 131, 134, 137, 143, 147, 167, 168, 184, 187, 198, 210, 215, 217, 231, 234, 241, 252, 258, 259, 260, 265, 266, 272, 289, 296, 310, 314, 334, 337, 339, 342, 345, 348, 349, 361, 367, 376, 383, 414, 417, 427, 433, 441, 444]\n"
     ]
    }
   ],
   "source": [
    "l.sort()\n",
    "print(l)"
   ]
  },
  {
   "cell_type": "code",
   "execution_count": null,
   "metadata": {},
   "outputs": [],
   "source": []
  }
 ],
 "metadata": {
  "kernelspec": {
   "display_name": "Python 3 (ipykernel)",
   "language": "python",
   "name": "python3"
  },
  "language_info": {
   "codemirror_mode": {
    "name": "ipython",
    "version": 3
   },
   "file_extension": ".py",
   "mimetype": "text/x-python",
   "name": "python",
   "nbconvert_exporter": "python",
   "pygments_lexer": "ipython3",
   "version": "3.8.0"
  }
 },
 "nbformat": 4,
 "nbformat_minor": 4
}
