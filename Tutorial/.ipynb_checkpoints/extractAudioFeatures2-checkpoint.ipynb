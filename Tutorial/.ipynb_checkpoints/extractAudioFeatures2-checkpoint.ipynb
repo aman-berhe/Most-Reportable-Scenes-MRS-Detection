{
 "cells": [
  {
   "cell_type": "code",
   "execution_count": 1,
   "metadata": {},
   "outputs": [],
   "source": [
    "#This works on audio_env enviroment\n",
    "import librosa\n",
    "import librosa.display as ldp"
   ]
  },
  {
   "cell_type": "code",
   "execution_count": 2,
   "metadata": {},
   "outputs": [],
   "source": [
    "import numpy as np\n",
    "import pickle\n",
    "import sys\n",
    "import pandas as pd\n",
    "import wave\n",
    "import warnings\n",
    "import glob\n",
    "import os\n",
    "warnings.filterwarnings('ignore')"
   ]
  },
  {
   "cell_type": "code",
   "execution_count": 4,
   "metadata": {},
   "outputs": [],
   "source": [
    "waveFiles_list=[]\n",
    "#audioDir=\"/vol/work3/berhe/MRS_Detection/SceneAudio/AugmentedMRS/\"\n",
    "#sceneID=1\n",
    "#audioFile=audioDir+\"Scene_\"+str(sceneID)+\".wav\"\n",
    "#y, sr=librosa.load(audioFile,sr=16000)\n",
    "\n",
    "#for i in range(1,445):\n",
    " #   waveFiles_list.append(os.path.join(audioDir, \"Scene_\"+str(i)+\".wav\"))\n",
    "    \n",
    "#Augmented files\n",
    "audioDir=\"/vol/work3/berhe/MRS_Detection/SceneAudio/AugmentedMRS/\"\n",
    "\n",
    "for filename in glob.glob(os.path.join(audioDir, '*.wav')):\n",
    "    waveFiles_list.append(filename)"
   ]
  },
  {
   "cell_type": "code",
   "execution_count": 79,
   "metadata": {},
   "outputs": [
    {
     "data": {
      "text/plain": [
       "['/vol/work3/berhe/MRS_Detection/SceneAudio/AugmentedMRS/Noise_Scene_2.wav',\n",
       " '/vol/work3/berhe/MRS_Detection/SceneAudio/AugmentedMRS/Speed_Scene_2.wav',\n",
       " '/vol/work3/berhe/MRS_Detection/SceneAudio/AugmentedMRS/ShiftLeft_Scene_2.wav',\n",
       " '/vol/work3/berhe/MRS_Detection/SceneAudio/AugmentedMRS/Pitch_Scene_28.wav',\n",
       " '/vol/work3/berhe/MRS_Detection/SceneAudio/AugmentedMRS/Noise_Scene_28.wav',\n",
       " '/vol/work3/berhe/MRS_Detection/SceneAudio/AugmentedMRS/Speed_Scene_28.wav',\n",
       " '/vol/work3/berhe/MRS_Detection/SceneAudio/AugmentedMRS/ShiftLeft_Scene_28.wav',\n",
       " '/vol/work3/berhe/MRS_Detection/SceneAudio/AugmentedMRS/Pitch_Scene_27.wav',\n",
       " '/vol/work3/berhe/MRS_Detection/SceneAudio/AugmentedMRS/Noise_Scene_38.wav',\n",
       " '/vol/work3/berhe/MRS_Detection/SceneAudio/AugmentedMRS/Speed_Scene_38.wav',\n",
       " '/vol/work3/berhe/MRS_Detection/SceneAudio/AugmentedMRS/ShiftLeft_Scene_38.wav',\n",
       " '/vol/work3/berhe/MRS_Detection/SceneAudio/AugmentedMRS/Pitch_Scene_2.wav',\n",
       " '/vol/work3/berhe/MRS_Detection/SceneAudio/AugmentedMRS/Pitch_Scene_38.wav',\n",
       " '/vol/work3/berhe/MRS_Detection/SceneAudio/AugmentedMRS/Noise_Scene_41.wav',\n",
       " '/vol/work3/berhe/MRS_Detection/SceneAudio/AugmentedMRS/Speed_Scene_41.wav',\n",
       " '/vol/work3/berhe/MRS_Detection/SceneAudio/AugmentedMRS/ShiftLeft_Scene_41.wav',\n",
       " '/vol/work3/berhe/MRS_Detection/SceneAudio/AugmentedMRS/Pitch_Scene_41.wav',\n",
       " '/vol/work3/berhe/MRS_Detection/SceneAudio/AugmentedMRS/Noise_Scene_42.wav',\n",
       " '/vol/work3/berhe/MRS_Detection/SceneAudio/AugmentedMRS/Speed_Scene_42.wav',\n",
       " '/vol/work3/berhe/MRS_Detection/SceneAudio/AugmentedMRS/ShiftLeft_Scene_42.wav',\n",
       " '/vol/work3/berhe/MRS_Detection/SceneAudio/AugmentedMRS/Pitch_Scene_42.wav',\n",
       " '/vol/work3/berhe/MRS_Detection/SceneAudio/AugmentedMRS/Noise_Scene_54.wav',\n",
       " '/vol/work3/berhe/MRS_Detection/SceneAudio/AugmentedMRS/Speed_Scene_54.wav',\n",
       " '/vol/work3/berhe/MRS_Detection/SceneAudio/AugmentedMRS/ShiftLeft_Scene_54.wav',\n",
       " '/vol/work3/berhe/MRS_Detection/SceneAudio/AugmentedMRS/Pitch_Scene_54.wav',\n",
       " '/vol/work3/berhe/MRS_Detection/SceneAudio/AugmentedMRS/Noise_Scene_55.wav',\n",
       " '/vol/work3/berhe/MRS_Detection/SceneAudio/AugmentedMRS/Speed_Scene_55.wav',\n",
       " '/vol/work3/berhe/MRS_Detection/SceneAudio/AugmentedMRS/ShiftLeft_Scene_55.wav',\n",
       " '/vol/work3/berhe/MRS_Detection/SceneAudio/AugmentedMRS/Pitch_Scene_55.wav',\n",
       " '/vol/work3/berhe/MRS_Detection/SceneAudio/AugmentedMRS/Noise_Scene_104.wav',\n",
       " '/vol/work3/berhe/MRS_Detection/SceneAudio/AugmentedMRS/Speed_Scene_104.wav',\n",
       " '/vol/work3/berhe/MRS_Detection/SceneAudio/AugmentedMRS/ShiftLeft_Scene_104.wav',\n",
       " '/vol/work3/berhe/MRS_Detection/SceneAudio/AugmentedMRS/Pitch_Scene_104.wav',\n",
       " '/vol/work3/berhe/MRS_Detection/SceneAudio/AugmentedMRS/Noise_Scene_110.wav',\n",
       " '/vol/work3/berhe/MRS_Detection/SceneAudio/AugmentedMRS/Speed_Scene_110.wav',\n",
       " '/vol/work3/berhe/MRS_Detection/SceneAudio/AugmentedMRS/ShiftLeft_Scene_110.wav',\n",
       " '/vol/work3/berhe/MRS_Detection/SceneAudio/AugmentedMRS/Pitch_Scene_110.wav',\n",
       " '/vol/work3/berhe/MRS_Detection/SceneAudio/AugmentedMRS/Noise_Scene_130.wav',\n",
       " '/vol/work3/berhe/MRS_Detection/SceneAudio/AugmentedMRS/Speed_Scene_130.wav',\n",
       " '/vol/work3/berhe/MRS_Detection/SceneAudio/AugmentedMRS/ShiftLeft_Scene_130.wav',\n",
       " '/vol/work3/berhe/MRS_Detection/SceneAudio/AugmentedMRS/Pitch_Scene_130.wav',\n",
       " '/vol/work3/berhe/MRS_Detection/SceneAudio/AugmentedMRS/Noise_Scene_131.wav',\n",
       " '/vol/work3/berhe/MRS_Detection/SceneAudio/AugmentedMRS/Speed_Scene_131.wav',\n",
       " '/vol/work3/berhe/MRS_Detection/SceneAudio/AugmentedMRS/ShiftLeft_Scene_131.wav',\n",
       " '/vol/work3/berhe/MRS_Detection/SceneAudio/AugmentedMRS/Pitch_Scene_131.wav',\n",
       " '/vol/work3/berhe/MRS_Detection/SceneAudio/AugmentedMRS/Noise_Scene_134.wav',\n",
       " '/vol/work3/berhe/MRS_Detection/SceneAudio/AugmentedMRS/Speed_Scene_134.wav',\n",
       " '/vol/work3/berhe/MRS_Detection/SceneAudio/AugmentedMRS/ShiftLeft_Scene_134.wav',\n",
       " '/vol/work3/berhe/MRS_Detection/SceneAudio/AugmentedMRS/Pitch_Scene_134.wav',\n",
       " '/vol/work3/berhe/MRS_Detection/SceneAudio/AugmentedMRS/Noise_Scene_137.wav',\n",
       " '/vol/work3/berhe/MRS_Detection/SceneAudio/AugmentedMRS/Speed_Scene_137.wav',\n",
       " '/vol/work3/berhe/MRS_Detection/SceneAudio/AugmentedMRS/ShiftLeft_Scene_137.wav',\n",
       " '/vol/work3/berhe/MRS_Detection/SceneAudio/AugmentedMRS/Pitch_Scene_137.wav',\n",
       " '/vol/work3/berhe/MRS_Detection/SceneAudio/AugmentedMRS/Noise_Scene_143.wav',\n",
       " '/vol/work3/berhe/MRS_Detection/SceneAudio/AugmentedMRS/Speed_Scene_143.wav',\n",
       " '/vol/work3/berhe/MRS_Detection/SceneAudio/AugmentedMRS/ShiftLeft_Scene_143.wav',\n",
       " '/vol/work3/berhe/MRS_Detection/SceneAudio/AugmentedMRS/Pitch_Scene_143.wav',\n",
       " '/vol/work3/berhe/MRS_Detection/SceneAudio/AugmentedMRS/Noise_Scene_147.wav',\n",
       " '/vol/work3/berhe/MRS_Detection/SceneAudio/AugmentedMRS/Speed_Scene_147.wav',\n",
       " '/vol/work3/berhe/MRS_Detection/SceneAudio/AugmentedMRS/ShiftLeft_Scene_147.wav',\n",
       " '/vol/work3/berhe/MRS_Detection/SceneAudio/AugmentedMRS/Pitch_Scene_147.wav',\n",
       " '/vol/work3/berhe/MRS_Detection/SceneAudio/AugmentedMRS/Noise_Scene_167.wav',\n",
       " '/vol/work3/berhe/MRS_Detection/SceneAudio/AugmentedMRS/Speed_Scene_167.wav',\n",
       " '/vol/work3/berhe/MRS_Detection/SceneAudio/AugmentedMRS/ShiftLeft_Scene_167.wav',\n",
       " '/vol/work3/berhe/MRS_Detection/SceneAudio/AugmentedMRS/Pitch_Scene_167.wav',\n",
       " '/vol/work3/berhe/MRS_Detection/SceneAudio/AugmentedMRS/Noise_Scene_168.wav',\n",
       " '/vol/work3/berhe/MRS_Detection/SceneAudio/AugmentedMRS/Speed_Scene_168.wav',\n",
       " '/vol/work3/berhe/MRS_Detection/SceneAudio/AugmentedMRS/ShiftLeft_Scene_168.wav',\n",
       " '/vol/work3/berhe/MRS_Detection/SceneAudio/AugmentedMRS/Pitch_Scene_168.wav',\n",
       " '/vol/work3/berhe/MRS_Detection/SceneAudio/AugmentedMRS/Noise_Scene_184.wav',\n",
       " '/vol/work3/berhe/MRS_Detection/SceneAudio/AugmentedMRS/Speed_Scene_184.wav',\n",
       " '/vol/work3/berhe/MRS_Detection/SceneAudio/AugmentedMRS/ShiftLeft_Scene_184.wav',\n",
       " '/vol/work3/berhe/MRS_Detection/SceneAudio/AugmentedMRS/Pitch_Scene_184.wav',\n",
       " '/vol/work3/berhe/MRS_Detection/SceneAudio/AugmentedMRS/Noise_Scene_187.wav',\n",
       " '/vol/work3/berhe/MRS_Detection/SceneAudio/AugmentedMRS/Speed_Scene_187.wav',\n",
       " '/vol/work3/berhe/MRS_Detection/SceneAudio/AugmentedMRS/ShiftLeft_Scene_187.wav',\n",
       " '/vol/work3/berhe/MRS_Detection/SceneAudio/AugmentedMRS/Pitch_Scene_187.wav',\n",
       " '/vol/work3/berhe/MRS_Detection/SceneAudio/AugmentedMRS/Noise_Scene_198.wav',\n",
       " '/vol/work3/berhe/MRS_Detection/SceneAudio/AugmentedMRS/Speed_Scene_198.wav',\n",
       " '/vol/work3/berhe/MRS_Detection/SceneAudio/AugmentedMRS/ShiftLeft_Scene_198.wav',\n",
       " '/vol/work3/berhe/MRS_Detection/SceneAudio/AugmentedMRS/Pitch_Scene_198.wav',\n",
       " '/vol/work3/berhe/MRS_Detection/SceneAudio/AugmentedMRS/Noise_Scene_210.wav',\n",
       " '/vol/work3/berhe/MRS_Detection/SceneAudio/AugmentedMRS/Speed_Scene_210.wav',\n",
       " '/vol/work3/berhe/MRS_Detection/SceneAudio/AugmentedMRS/ShiftLeft_Scene_210.wav',\n",
       " '/vol/work3/berhe/MRS_Detection/SceneAudio/AugmentedMRS/Pitch_Scene_210.wav',\n",
       " '/vol/work3/berhe/MRS_Detection/SceneAudio/AugmentedMRS/Noise_Scene_215.wav',\n",
       " '/vol/work3/berhe/MRS_Detection/SceneAudio/AugmentedMRS/Speed_Scene_215.wav',\n",
       " '/vol/work3/berhe/MRS_Detection/SceneAudio/AugmentedMRS/ShiftLeft_Scene_215.wav',\n",
       " '/vol/work3/berhe/MRS_Detection/SceneAudio/AugmentedMRS/Pitch_Scene_215.wav',\n",
       " '/vol/work3/berhe/MRS_Detection/SceneAudio/AugmentedMRS/Noise_Scene_217.wav',\n",
       " '/vol/work3/berhe/MRS_Detection/SceneAudio/AugmentedMRS/Speed_Scene_217.wav',\n",
       " '/vol/work3/berhe/MRS_Detection/SceneAudio/AugmentedMRS/ShiftLeft_Scene_217.wav',\n",
       " '/vol/work3/berhe/MRS_Detection/SceneAudio/AugmentedMRS/Pitch_Scene_217.wav',\n",
       " '/vol/work3/berhe/MRS_Detection/SceneAudio/AugmentedMRS/Noise_Scene_231.wav',\n",
       " '/vol/work3/berhe/MRS_Detection/SceneAudio/AugmentedMRS/Speed_Scene_231.wav',\n",
       " '/vol/work3/berhe/MRS_Detection/SceneAudio/AugmentedMRS/ShiftLeft_Scene_231.wav',\n",
       " '/vol/work3/berhe/MRS_Detection/SceneAudio/AugmentedMRS/Pitch_Scene_231.wav',\n",
       " '/vol/work3/berhe/MRS_Detection/SceneAudio/AugmentedMRS/Noise_Scene_234.wav',\n",
       " '/vol/work3/berhe/MRS_Detection/SceneAudio/AugmentedMRS/Speed_Scene_234.wav',\n",
       " '/vol/work3/berhe/MRS_Detection/SceneAudio/AugmentedMRS/ShiftLeft_Scene_234.wav',\n",
       " '/vol/work3/berhe/MRS_Detection/SceneAudio/AugmentedMRS/Pitch_Scene_234.wav',\n",
       " '/vol/work3/berhe/MRS_Detection/SceneAudio/AugmentedMRS/Noise_Scene_241.wav',\n",
       " '/vol/work3/berhe/MRS_Detection/SceneAudio/AugmentedMRS/Speed_Scene_241.wav',\n",
       " '/vol/work3/berhe/MRS_Detection/SceneAudio/AugmentedMRS/ShiftLeft_Scene_241.wav',\n",
       " '/vol/work3/berhe/MRS_Detection/SceneAudio/AugmentedMRS/Pitch_Scene_241.wav',\n",
       " '/vol/work3/berhe/MRS_Detection/SceneAudio/AugmentedMRS/Noise_Scene_252.wav',\n",
       " '/vol/work3/berhe/MRS_Detection/SceneAudio/AugmentedMRS/Speed_Scene_252.wav',\n",
       " '/vol/work3/berhe/MRS_Detection/SceneAudio/AugmentedMRS/ShiftLeft_Scene_252.wav',\n",
       " '/vol/work3/berhe/MRS_Detection/SceneAudio/AugmentedMRS/Pitch_Scene_252.wav',\n",
       " '/vol/work3/berhe/MRS_Detection/SceneAudio/AugmentedMRS/Noise_Scene_258.wav',\n",
       " '/vol/work3/berhe/MRS_Detection/SceneAudio/AugmentedMRS/Speed_Scene_258.wav',\n",
       " '/vol/work3/berhe/MRS_Detection/SceneAudio/AugmentedMRS/ShiftLeft_Scene_258.wav',\n",
       " '/vol/work3/berhe/MRS_Detection/SceneAudio/AugmentedMRS/Pitch_Scene_258.wav',\n",
       " '/vol/work3/berhe/MRS_Detection/SceneAudio/AugmentedMRS/Noise_Scene_259.wav',\n",
       " '/vol/work3/berhe/MRS_Detection/SceneAudio/AugmentedMRS/Speed_Scene_259.wav',\n",
       " '/vol/work3/berhe/MRS_Detection/SceneAudio/AugmentedMRS/ShiftLeft_Scene_259.wav',\n",
       " '/vol/work3/berhe/MRS_Detection/SceneAudio/AugmentedMRS/Pitch_Scene_259.wav',\n",
       " '/vol/work3/berhe/MRS_Detection/SceneAudio/AugmentedMRS/Noise_Scene_260.wav',\n",
       " '/vol/work3/berhe/MRS_Detection/SceneAudio/AugmentedMRS/Speed_Scene_260.wav',\n",
       " '/vol/work3/berhe/MRS_Detection/SceneAudio/AugmentedMRS/ShiftLeft_Scene_260.wav',\n",
       " '/vol/work3/berhe/MRS_Detection/SceneAudio/AugmentedMRS/Pitch_Scene_260.wav',\n",
       " '/vol/work3/berhe/MRS_Detection/SceneAudio/AugmentedMRS/Noise_Scene_265.wav',\n",
       " '/vol/work3/berhe/MRS_Detection/SceneAudio/AugmentedMRS/Speed_Scene_265.wav',\n",
       " '/vol/work3/berhe/MRS_Detection/SceneAudio/AugmentedMRS/ShiftLeft_Scene_265.wav',\n",
       " '/vol/work3/berhe/MRS_Detection/SceneAudio/AugmentedMRS/Pitch_Scene_265.wav',\n",
       " '/vol/work3/berhe/MRS_Detection/SceneAudio/AugmentedMRS/Noise_Scene_266.wav',\n",
       " '/vol/work3/berhe/MRS_Detection/SceneAudio/AugmentedMRS/Speed_Scene_266.wav',\n",
       " '/vol/work3/berhe/MRS_Detection/SceneAudio/AugmentedMRS/ShiftLeft_Scene_266.wav',\n",
       " '/vol/work3/berhe/MRS_Detection/SceneAudio/AugmentedMRS/Pitch_Scene_266.wav',\n",
       " '/vol/work3/berhe/MRS_Detection/SceneAudio/AugmentedMRS/Noise_Scene_272.wav',\n",
       " '/vol/work3/berhe/MRS_Detection/SceneAudio/AugmentedMRS/Speed_Scene_272.wav',\n",
       " '/vol/work3/berhe/MRS_Detection/SceneAudio/AugmentedMRS/ShiftLeft_Scene_272.wav',\n",
       " '/vol/work3/berhe/MRS_Detection/SceneAudio/AugmentedMRS/Pitch_Scene_272.wav',\n",
       " '/vol/work3/berhe/MRS_Detection/SceneAudio/AugmentedMRS/Noise_Scene_289.wav',\n",
       " '/vol/work3/berhe/MRS_Detection/SceneAudio/AugmentedMRS/Speed_Scene_289.wav',\n",
       " '/vol/work3/berhe/MRS_Detection/SceneAudio/AugmentedMRS/ShiftLeft_Scene_289.wav',\n",
       " '/vol/work3/berhe/MRS_Detection/SceneAudio/AugmentedMRS/Pitch_Scene_289.wav',\n",
       " '/vol/work3/berhe/MRS_Detection/SceneAudio/AugmentedMRS/Noise_Scene_296.wav',\n",
       " '/vol/work3/berhe/MRS_Detection/SceneAudio/AugmentedMRS/Speed_Scene_296.wav',\n",
       " '/vol/work3/berhe/MRS_Detection/SceneAudio/AugmentedMRS/ShiftLeft_Scene_296.wav',\n",
       " '/vol/work3/berhe/MRS_Detection/SceneAudio/AugmentedMRS/Pitch_Scene_296.wav',\n",
       " '/vol/work3/berhe/MRS_Detection/SceneAudio/AugmentedMRS/Noise_Scene_310.wav',\n",
       " '/vol/work3/berhe/MRS_Detection/SceneAudio/AugmentedMRS/Speed_Scene_310.wav',\n",
       " '/vol/work3/berhe/MRS_Detection/SceneAudio/AugmentedMRS/ShiftLeft_Scene_310.wav',\n",
       " '/vol/work3/berhe/MRS_Detection/SceneAudio/AugmentedMRS/Pitch_Scene_310.wav',\n",
       " '/vol/work3/berhe/MRS_Detection/SceneAudio/AugmentedMRS/Noise_Scene_314.wav',\n",
       " '/vol/work3/berhe/MRS_Detection/SceneAudio/AugmentedMRS/Speed_Scene_314.wav',\n",
       " '/vol/work3/berhe/MRS_Detection/SceneAudio/AugmentedMRS/ShiftLeft_Scene_314.wav',\n",
       " '/vol/work3/berhe/MRS_Detection/SceneAudio/AugmentedMRS/Pitch_Scene_314.wav',\n",
       " '/vol/work3/berhe/MRS_Detection/SceneAudio/AugmentedMRS/Noise_Scene_334.wav',\n",
       " '/vol/work3/berhe/MRS_Detection/SceneAudio/AugmentedMRS/Speed_Scene_334.wav',\n",
       " '/vol/work3/berhe/MRS_Detection/SceneAudio/AugmentedMRS/ShiftLeft_Scene_334.wav',\n",
       " '/vol/work3/berhe/MRS_Detection/SceneAudio/AugmentedMRS/Pitch_Scene_334.wav',\n",
       " '/vol/work3/berhe/MRS_Detection/SceneAudio/AugmentedMRS/Noise_Scene_337.wav',\n",
       " '/vol/work3/berhe/MRS_Detection/SceneAudio/AugmentedMRS/Speed_Scene_337.wav',\n",
       " '/vol/work3/berhe/MRS_Detection/SceneAudio/AugmentedMRS/ShiftLeft_Scene_337.wav',\n",
       " '/vol/work3/berhe/MRS_Detection/SceneAudio/AugmentedMRS/Pitch_Scene_337.wav',\n",
       " '/vol/work3/berhe/MRS_Detection/SceneAudio/AugmentedMRS/Noise_Scene_339.wav',\n",
       " '/vol/work3/berhe/MRS_Detection/SceneAudio/AugmentedMRS/Speed_Scene_339.wav',\n",
       " '/vol/work3/berhe/MRS_Detection/SceneAudio/AugmentedMRS/ShiftLeft_Scene_339.wav',\n",
       " '/vol/work3/berhe/MRS_Detection/SceneAudio/AugmentedMRS/Pitch_Scene_339.wav',\n",
       " '/vol/work3/berhe/MRS_Detection/SceneAudio/AugmentedMRS/Noise_Scene_342.wav',\n",
       " '/vol/work3/berhe/MRS_Detection/SceneAudio/AugmentedMRS/Speed_Scene_342.wav',\n",
       " '/vol/work3/berhe/MRS_Detection/SceneAudio/AugmentedMRS/ShiftLeft_Scene_342.wav',\n",
       " '/vol/work3/berhe/MRS_Detection/SceneAudio/AugmentedMRS/Pitch_Scene_342.wav',\n",
       " '/vol/work3/berhe/MRS_Detection/SceneAudio/AugmentedMRS/Noise_Scene_345.wav',\n",
       " '/vol/work3/berhe/MRS_Detection/SceneAudio/AugmentedMRS/Speed_Scene_345.wav',\n",
       " '/vol/work3/berhe/MRS_Detection/SceneAudio/AugmentedMRS/ShiftLeft_Scene_345.wav',\n",
       " '/vol/work3/berhe/MRS_Detection/SceneAudio/AugmentedMRS/Pitch_Scene_345.wav',\n",
       " '/vol/work3/berhe/MRS_Detection/SceneAudio/AugmentedMRS/Noise_Scene_348.wav',\n",
       " '/vol/work3/berhe/MRS_Detection/SceneAudio/AugmentedMRS/Speed_Scene_348.wav',\n",
       " '/vol/work3/berhe/MRS_Detection/SceneAudio/AugmentedMRS/ShiftLeft_Scene_348.wav',\n",
       " '/vol/work3/berhe/MRS_Detection/SceneAudio/AugmentedMRS/Pitch_Scene_348.wav',\n",
       " '/vol/work3/berhe/MRS_Detection/SceneAudio/AugmentedMRS/Noise_Scene_349.wav',\n",
       " '/vol/work3/berhe/MRS_Detection/SceneAudio/AugmentedMRS/Speed_Scene_349.wav',\n",
       " '/vol/work3/berhe/MRS_Detection/SceneAudio/AugmentedMRS/ShiftLeft_Scene_349.wav',\n",
       " '/vol/work3/berhe/MRS_Detection/SceneAudio/AugmentedMRS/Pitch_Scene_349.wav',\n",
       " '/vol/work3/berhe/MRS_Detection/SceneAudio/AugmentedMRS/Noise_Scene_361.wav',\n",
       " '/vol/work3/berhe/MRS_Detection/SceneAudio/AugmentedMRS/Speed_Scene_361.wav',\n",
       " '/vol/work3/berhe/MRS_Detection/SceneAudio/AugmentedMRS/ShiftLeft_Scene_361.wav',\n",
       " '/vol/work3/berhe/MRS_Detection/SceneAudio/AugmentedMRS/Pitch_Scene_361.wav',\n",
       " '/vol/work3/berhe/MRS_Detection/SceneAudio/AugmentedMRS/Noise_Scene_367.wav',\n",
       " '/vol/work3/berhe/MRS_Detection/SceneAudio/AugmentedMRS/Speed_Scene_367.wav',\n",
       " '/vol/work3/berhe/MRS_Detection/SceneAudio/AugmentedMRS/ShiftLeft_Scene_367.wav',\n",
       " '/vol/work3/berhe/MRS_Detection/SceneAudio/AugmentedMRS/Pitch_Scene_367.wav',\n",
       " '/vol/work3/berhe/MRS_Detection/SceneAudio/AugmentedMRS/Noise_Scene_376.wav',\n",
       " '/vol/work3/berhe/MRS_Detection/SceneAudio/AugmentedMRS/Speed_Scene_376.wav',\n",
       " '/vol/work3/berhe/MRS_Detection/SceneAudio/AugmentedMRS/ShiftLeft_Scene_376.wav',\n",
       " '/vol/work3/berhe/MRS_Detection/SceneAudio/AugmentedMRS/Pitch_Scene_376.wav',\n",
       " '/vol/work3/berhe/MRS_Detection/SceneAudio/AugmentedMRS/Noise_Scene_383.wav',\n",
       " '/vol/work3/berhe/MRS_Detection/SceneAudio/AugmentedMRS/Speed_Scene_383.wav',\n",
       " '/vol/work3/berhe/MRS_Detection/SceneAudio/AugmentedMRS/ShiftLeft_Scene_383.wav',\n",
       " '/vol/work3/berhe/MRS_Detection/SceneAudio/AugmentedMRS/Pitch_Scene_383.wav',\n",
       " '/vol/work3/berhe/MRS_Detection/SceneAudio/AugmentedMRS/Noise_Scene_414.wav',\n",
       " '/vol/work3/berhe/MRS_Detection/SceneAudio/AugmentedMRS/Speed_Scene_414.wav',\n",
       " '/vol/work3/berhe/MRS_Detection/SceneAudio/AugmentedMRS/ShiftLeft_Scene_414.wav',\n",
       " '/vol/work3/berhe/MRS_Detection/SceneAudio/AugmentedMRS/Pitch_Scene_414.wav',\n",
       " '/vol/work3/berhe/MRS_Detection/SceneAudio/AugmentedMRS/Noise_Scene_417.wav',\n",
       " '/vol/work3/berhe/MRS_Detection/SceneAudio/AugmentedMRS/Speed_Scene_417.wav',\n",
       " '/vol/work3/berhe/MRS_Detection/SceneAudio/AugmentedMRS/ShiftLeft_Scene_417.wav',\n",
       " '/vol/work3/berhe/MRS_Detection/SceneAudio/AugmentedMRS/Pitch_Scene_417.wav',\n",
       " '/vol/work3/berhe/MRS_Detection/SceneAudio/AugmentedMRS/Noise_Scene_427.wav',\n",
       " '/vol/work3/berhe/MRS_Detection/SceneAudio/AugmentedMRS/Speed_Scene_427.wav',\n",
       " '/vol/work3/berhe/MRS_Detection/SceneAudio/AugmentedMRS/ShiftLeft_Scene_427.wav',\n",
       " '/vol/work3/berhe/MRS_Detection/SceneAudio/AugmentedMRS/Pitch_Scene_427.wav',\n",
       " '/vol/work3/berhe/MRS_Detection/SceneAudio/AugmentedMRS/Noise_Scene_433.wav',\n",
       " '/vol/work3/berhe/MRS_Detection/SceneAudio/AugmentedMRS/Speed_Scene_433.wav',\n",
       " '/vol/work3/berhe/MRS_Detection/SceneAudio/AugmentedMRS/ShiftLeft_Scene_433.wav',\n",
       " '/vol/work3/berhe/MRS_Detection/SceneAudio/AugmentedMRS/Pitch_Scene_433.wav',\n",
       " '/vol/work3/berhe/MRS_Detection/SceneAudio/AugmentedMRS/Noise_Scene_441.wav',\n",
       " '/vol/work3/berhe/MRS_Detection/SceneAudio/AugmentedMRS/Speed_Scene_441.wav',\n",
       " '/vol/work3/berhe/MRS_Detection/SceneAudio/AugmentedMRS/ShiftLeft_Scene_441.wav',\n",
       " '/vol/work3/berhe/MRS_Detection/SceneAudio/AugmentedMRS/Pitch_Scene_441.wav',\n",
       " '/vol/work3/berhe/MRS_Detection/SceneAudio/AugmentedMRS/Noise_Scene_444.wav',\n",
       " '/vol/work3/berhe/MRS_Detection/SceneAudio/AugmentedMRS/Speed_Scene_444.wav',\n",
       " '/vol/work3/berhe/MRS_Detection/SceneAudio/AugmentedMRS/ShiftLeft_Scene_444.wav',\n",
       " '/vol/work3/berhe/MRS_Detection/SceneAudio/AugmentedMRS/Pitch_Scene_444.wav']"
      ]
     },
     "execution_count": 79,
     "metadata": {},
     "output_type": "execute_result"
    }
   ],
   "source": [
    "waveFiles_list"
   ]
  },
  {
   "cell_type": "code",
   "execution_count": 8,
   "metadata": {},
   "outputs": [],
   "source": [
    "def audio_feat_eng(waveFiles,specFeat=''):\n",
    "    #Compute the MFCC features of all scenes\n",
    "    sceneMFCC=[]\n",
    "    scenemelSpect=[]\n",
    "    spectral_centroid=[]\n",
    "    tempoFeat=[]\n",
    "    duration=[]\n",
    "    chromagramFeat=[]\n",
    "    tempogramFeat=[]\n",
    "\n",
    "    for i in waveFiles_list:\n",
    "        #print(\"Scene {}\".format(i))\n",
    "        sys.stdout.write('Scene %s\\r' % i.split('_')[-1].split('.')[0])\n",
    "        sys.stdout.flush()\n",
    "        #audioFile=audioDir+\"Scene_\"+str(i)+\".wav\"\n",
    "        audioFile=i\n",
    "        y, sr=librosa.load(audioFile)\n",
    "        duration.append(librosa.get_duration(y,sr))\n",
    "        tem=librosa.beat.tempo(y,sr)\n",
    "        tempoFeat.append(tem)\n",
    "        mel=librosa.feature.melspectrogram(y,sr)\n",
    "        scenemelSpect.append(mel)\n",
    "        mfcc=librosa.feature.mfcc(y,sr)\n",
    "        sceneMFCC.append(mfcc)\n",
    "        sc=librosa.feature.spectral_centroid(y,sr)\n",
    "        spectral_centroid.append(sc)\n",
    "        chromagram = librosa.feature.chroma_stft(y, sr=sr, hop_length=hop_length)\n",
    "        tempogram=librosa.feature.tempogram(y,sr=sr)\n",
    "        chromagramFeat.append(chromagram)\n",
    "        tempogramFeat.append(tempogram)\n",
    "\n",
    "    with open (\"MelSpectogram_features_as_list\"+specFeat,'wb') as file:\n",
    "        pickle.dump(scenemelSpect,file)\n",
    "    with open (\"Spectogram_centroid_features_as_list\"+specFeat,'wb') as file:\n",
    "        pickle.dump(spectral_centroid,file)\n",
    "    with open (\"MFCC_features_as_list\"+specFeat,'wb') as file:\n",
    "        pickle.dump(sceneMFCC,file)\n",
    "    with open (\"Tempo_features_as_list\"+specFeat,'wb') as file:\n",
    "        pickle.dump(tempoFeat,file)\n",
    "    with open (\"Chromagram_features_as_list\"+specFeat,'wb') as file:\n",
    "        pickle.dump(chromagramFeat,file)\n",
    "    with open (\"Tempogram_features_as_list\"+specFeat,'wb') as file:\n",
    "        pickle.dump(tempogramFeat,file)"
   ]
  },
  {
   "cell_type": "code",
   "execution_count": 81,
   "metadata": {},
   "outputs": [
    {
     "name": "stdout",
     "output_type": "stream",
     "text": [
      "Scene 444\r"
     ]
    }
   ],
   "source": [
    " audio_feat_eng(waveFiles_list,specFeat='Augmented')"
   ]
  },
  {
   "cell_type": "code",
   "execution_count": 26,
   "metadata": {},
   "outputs": [
    {
     "name": "stdout",
     "output_type": "stream",
     "text": [
      "85.52 89.08333333333333\n"
     ]
    }
   ],
   "source": [
    "y, sr=librosa.load(\"SceneAudio/Scene_4.wav\",sr=16000)\n",
    "print(librosa.get_duration(y,sr),librosa.get_duration(y,sr)/0.96)"
   ]
  },
  {
   "cell_type": "code",
   "execution_count": 27,
   "metadata": {},
   "outputs": [],
   "source": [
    "pitches, magnitudes = librosa.piptrack(y=y, sr=sr)"
   ]
  },
  {
   "cell_type": "code",
   "execution_count": 28,
   "metadata": {},
   "outputs": [
    {
     "data": {
      "text/plain": [
       "((1025, 2673), (1025, 2673))"
      ]
     },
     "execution_count": 28,
     "metadata": {},
     "output_type": "execute_result"
    }
   ],
   "source": [
    "pitches.shape,magnitudes.shape"
   ]
  },
  {
   "cell_type": "code",
   "execution_count": 29,
   "metadata": {},
   "outputs": [
    {
     "data": {
      "text/plain": [
       "0.07000000000000006"
      ]
     },
     "execution_count": 29,
     "metadata": {},
     "output_type": "execute_result"
    }
   ],
   "source": [
    "freqs, times, mags = librosa.reassigned_spectrogram(y, sr,fill_nan=True)\n",
    "\n",
    "# Select out pitches with high energy\n",
    "\n",
    "freqs = freqs[mags > np.median(mags)]\n",
    "\n",
    "librosa.pitch_tuning(freqs)"
   ]
  },
  {
   "cell_type": "code",
   "execution_count": 30,
   "metadata": {},
   "outputs": [
    {
     "data": {
      "text/plain": [
       "0.06000000000000005"
      ]
     },
     "execution_count": 30,
     "metadata": {},
     "output_type": "execute_result"
    }
   ],
   "source": [
    "librosa.pitch_tuning(pitches)"
   ]
  },
  {
   "cell_type": "code",
   "execution_count": 23,
   "metadata": {},
   "outputs": [
    {
     "name": "stdout",
     "output_type": "stream",
     "text": [
      "27.4 28.541666666666668\n"
     ]
    }
   ],
   "source": [
    "y, sr=librosa.load(\"SceneAudio/Scene_3.wav\",sr=16000)\n",
    "print(librosa.get_duration(y,sr=16000),librosa.get_duration(y,sr=16000)/0.96)"
   ]
  },
  {
   "cell_type": "code",
   "execution_count": 97,
   "metadata": {},
   "outputs": [],
   "source": [
    "mfccFeat=librosa.feature.mfcc(y,sr)"
   ]
  },
  {
   "cell_type": "code",
   "execution_count": 98,
   "metadata": {},
   "outputs": [
    {
     "data": {
      "text/plain": [
       "(20, 2259)"
      ]
     },
     "execution_count": 98,
     "metadata": {},
     "output_type": "execute_result"
    }
   ],
   "source": [
    "mfccFeat.shape"
   ]
  },
  {
   "cell_type": "code",
   "execution_count": 1,
   "metadata": {},
   "outputs": [
    {
     "ename": "NameError",
     "evalue": "name 'pd' is not defined",
     "output_type": "error",
     "traceback": [
      "\u001b[0;31m---------------------------------------------------------------------------\u001b[0m",
      "\u001b[0;31mNameError\u001b[0m                                 Traceback (most recent call last)",
      "\u001b[0;32m<ipython-input-1-ae5f1775b286>\u001b[0m in \u001b[0;36m<module>\u001b[0;34m\u001b[0m\n\u001b[0;32m----> 1\u001b[0;31m \u001b[0mdataset_Df\u001b[0m\u001b[0;34m=\u001b[0m\u001b[0mpd\u001b[0m\u001b[0;34m.\u001b[0m\u001b[0mread_csv\u001b[0m\u001b[0;34m(\u001b[0m\u001b[0;34m\"Scene_Dataset_Normalized.csv\"\u001b[0m\u001b[0;34m)\u001b[0m\u001b[0;34m\u001b[0m\u001b[0m\n\u001b[0m\u001b[1;32m      2\u001b[0m \u001b[0msceneLabels\u001b[0m\u001b[0;34m=\u001b[0m\u001b[0mdataset_Df\u001b[0m\u001b[0;34m.\u001b[0m\u001b[0mMRS\u001b[0m\u001b[0;34m.\u001b[0m\u001b[0mtolist\u001b[0m\u001b[0;34m(\u001b[0m\u001b[0;34m)\u001b[0m\u001b[0;34m\u001b[0m\u001b[0m\n\u001b[1;32m      3\u001b[0m \u001b[0mlabels\u001b[0m\u001b[0;34m=\u001b[0m\u001b[0;34m[\u001b[0m\u001b[0mi\u001b[0m \u001b[0;32mif\u001b[0m \u001b[0mi\u001b[0m\u001b[0;34m==\u001b[0m\u001b[0;36m0\u001b[0m \u001b[0;32melse\u001b[0m \u001b[0;36m1\u001b[0m \u001b[0;32mfor\u001b[0m \u001b[0mi\u001b[0m \u001b[0;32min\u001b[0m \u001b[0msceneLabels\u001b[0m\u001b[0;34m]\u001b[0m\u001b[0;34m\u001b[0m\u001b[0m\n\u001b[1;32m      4\u001b[0m \u001b[0mpos_mrs\u001b[0m\u001b[0;34m=\u001b[0m\u001b[0;34m[\u001b[0m\u001b[0mi\u001b[0m \u001b[0;32mfor\u001b[0m \u001b[0mi\u001b[0m \u001b[0;32min\u001b[0m \u001b[0mrange\u001b[0m\u001b[0;34m(\u001b[0m\u001b[0mlen\u001b[0m\u001b[0;34m(\u001b[0m\u001b[0msceneLabels\u001b[0m\u001b[0;34m)\u001b[0m\u001b[0;34m)\u001b[0m \u001b[0;32mif\u001b[0m \u001b[0msceneLabels\u001b[0m\u001b[0;34m[\u001b[0m\u001b[0mi\u001b[0m\u001b[0;34m]\u001b[0m\u001b[0;34m!=\u001b[0m\u001b[0;36m0\u001b[0m\u001b[0;34m]\u001b[0m\u001b[0;34m\u001b[0m\u001b[0m\n",
      "\u001b[0;31mNameError\u001b[0m: name 'pd' is not defined"
     ]
    }
   ],
   "source": [
    "dataset_Df=pd.read_csv(\"Scene_Dataset_Normalized.csv\")\n",
    "sceneLabels=dataset_Df.MRS.tolist()\n",
    "labels=[i if i==0 else 1 for i in sceneLabels]\n",
    "pos_mrs=[i for i in range(len(sceneLabels)) if sceneLabels[i]!=0]"
   ]
  },
  {
   "cell_type": "code",
   "execution_count": 85,
   "metadata": {},
   "outputs": [],
   "source": [
    "from sklearn.model_selection import train_test_split\n",
    "def processDataB(data,binaryLabels,testSize=0.33):\n",
    "    X = data\n",
    "    y = np.array(binaryLabels)\n",
    "\n",
    "    # Encode the classification labels\n",
    "\n",
    "    encoder = LabelEncoder()\n",
    "    encoder.fit(y)\n",
    "    yy = encoder.transform(y)\n",
    "    #le = LabelEncoder()\n",
    "    #yy = to_categorical(le.fit_transform(y))\n",
    "    x_train, x_test, y_train, y_test = train_test_split(X, yy, test_size=testSize, random_state = 42)\n",
    "    print(yy.shape,y_test.shape)\n",
    "\n",
    "    return x_train, x_test, y_train, y_test"
   ]
  },
  {
   "cell_type": "code",
   "execution_count": null,
   "metadata": {},
   "outputs": [],
   "source": [
    "x_train, x_test, y_train, y_test=processDataB()"
   ]
  },
  {
   "cell_type": "code",
   "execution_count": 25,
   "metadata": {},
   "outputs": [
    {
     "name": "stdout",
     "output_type": "stream",
     "text": [
      "472.8 1.4 133.2748402484117\n"
     ]
    }
   ],
   "source": [
    "print(max(duration),min(duration),sum(duration)/len(duration))"
   ]
  },
  {
   "cell_type": "code",
   "execution_count": 33,
   "metadata": {},
   "outputs": [
    {
     "data": {
      "text/plain": [
       "(3, 181)"
      ]
     },
     "execution_count": 33,
     "metadata": {},
     "output_type": "execute_result"
    }
   ],
   "source": [
    "shortScene=[i for i in duration if i<10]\n",
    "len(shortScene)\n",
    "avgPlus=[i for i in duration if i>133]\n",
    "len(shortScene),len(avgPlus)"
   ]
  },
  {
   "cell_type": "code",
   "execution_count": 26,
   "metadata": {},
   "outputs": [
    {
     "name": "stdout",
     "output_type": "stream",
     "text": [
      "7.88 0.02333333333333333 2.221247337473528\n"
     ]
    }
   ],
   "source": [
    "print(max(duration)/60,min(duration)/60,(sum(duration)/len(duration))/60)"
   ]
  },
  {
   "cell_type": "code",
   "execution_count": 28,
   "metadata": {},
   "outputs": [
    {
     "data": {
      "text/plain": [
       "439"
      ]
     },
     "execution_count": 28,
     "metadata": {},
     "output_type": "execute_result"
    }
   ],
   "source": [
    "duration.index(max(duration))"
   ]
  },
  {
   "cell_type": "code",
   "execution_count": null,
   "metadata": {},
   "outputs": [],
   "source": [
    "len(scenemelSpect)"
   ]
  },
  {
   "cell_type": "code",
   "execution_count": null,
   "metadata": {},
   "outputs": [],
   "source": [
    "scenemelSpect[6].shape"
   ]
  },
  {
   "cell_type": "code",
   "execution_count": null,
   "metadata": {},
   "outputs": [],
   "source": [
    "#Save MFCC features as pickle. List of mfcc features for each scene\n",
    "with open (\"spectral_centroid_features_as_list\",'wb') as file:\n",
    "    pickle.dump(spectral_centroid,file)"
   ]
  },
  {
   "cell_type": "code",
   "execution_count": 37,
   "metadata": {},
   "outputs": [],
   "source": [
    "#Read scene MFCC features from file\n",
    "with open (\"MelSpectogram_features_as_listAugmented\",'rb') as file:\n",
    "    sceneMFCC = pickle.load(file)"
   ]
  },
  {
   "cell_type": "code",
   "execution_count": 44,
   "metadata": {},
   "outputs": [
    {
     "data": {
      "text/plain": [
       "((128, 5668), (128, 4273))"
      ]
     },
     "execution_count": 44,
     "metadata": {},
     "output_type": "execute_result"
    }
   ],
   "source": [
    "sceneMFCC[10].shape,sceneMFCC[20].shape"
   ]
  },
  {
   "cell_type": "code",
   "execution_count": 17,
   "metadata": {},
   "outputs": [],
   "source": [
    "lengMFCC=[]\n",
    "for i in sceneMFCC:\n",
    "    lengMFCC.append(i.shape[1])"
   ]
  },
  {
   "cell_type": "code",
   "execution_count": 18,
   "metadata": {},
   "outputs": [
    {
     "name": "stdout",
     "output_type": "stream",
     "text": [
      "[3112, 3398, 1181, 3684, 2405, 5341, 2212, 7561, 3220, 3937, 2299, 2054, 1196, 10693, 3747, 5372, 2014, 6271, 5182, 4223, 2114, 7220, 2495, 3391, 1284, 857, 7501, 13835, 4243, 3208, 2390, 3809, 3289, 4026, 5485, 6032, 4224, 5668, 4707, 4335, 1868, 4273, 8233, 7634, 5125, 2789, 4653, 1337, 3236, 4533, 6423, 5355, 4612, 6717, 2123, 11844, 1280, 2252, 6397, 7177, 6586, 3346, 8979, 7482, 1752, 5379, 3964, 2011, 1432, 4982, 1525, 2829, 4090, 11241, 9013, 3957, 9646, 1565, 5558, 1217, 3878, 1992, 2566, 8758, 2214, 4245, 3609, 8691, 5212, 12073, 4266, 3241, 2729, 5982, 4438, 5497, 4435, 1363, 850, 5222, 4864, 2491, 1093, 3206, 3334, 14853, 2676, 10307, 4133, 7591, 2583, 8576, 9864, 8183, 6409, 4280, 572, 6359, 3723, 8814, 2524, 5460, 2874, 9939, 2455, 4912, 1711, 9770, 15647, 4292, 7990, 11399, 3649, 11272, 2758, 4622, 8750, 5558, 4877, 13832, 4671, 10118, 11026, 7181, 3808, 6088, 11790, 11463, 7484, 12541, 9201, 3997, 602, 12162, 3997, 3452, 2637, 6829, 1050, 10690, 2948, 4385, 5253, 8648, 5267, 9086, 2479, 9191, 307, 1721, 6366, 858, 883, 1528, 7482, 3160, 3665, 5485, 3541, 4709, 3425, 7055, 2812, 5827, 5206, 5373, 1637, 5056, 4290, 5056, 5635, 2891, 1000, 7911, 3148, 8052, 6907, 18044, 9349, 4423, 8603, 5587, 4083, 4788, 10233, 4143, 4476, 6338, 15293, 3980, 18061, 2414, 3332, 3603, 7225, 2402, 15970, 2235, 2454, 3103, 1136, 4950, 6824, 6616, 5839, 7317, 1372, 7976, 4648, 7501, 2352, 3466, 5072, 6352, 8426, 5181, 7644, 4820, 1899, 11442, 3902, 4774, 10908, 9768, 4774, 3444, 9866, 4259, 9868, 1298, 10230, 7634, 8610, 4076, 6829, 6603, 7027, 5994, 6218, 2436, 9522, 6195, 5232, 5561, 5072, 7051, 4898, 10914, 9315, 9780, 7510, 10345, 10753, 6249, 9658, 1551, 4681, 3682, 8374, 10226, 3360, 10693, 4126, 9094, 3280, 1661, 4869, 13106, 3406, 3237, 3081, 5268, 4600, 11952, 10795, 5106, 9587, 8142, 9063, 4963, 4660, 2707, 4431, 1179, 9427, 7013, 462, 7975, 13518, 5871, 9563, 4648, 12653, 7678, 6152, 4221, 4052, 6748, 4002, 9244, 7839, 6510, 7468, 7475, 4960, 8767, 7766, 4006, 4622, 6833, 13367, 3048, 3728, 14872, 6653, 11391, 15759, 3761, 11201, 11535, 6199, 4898, 8810, 6741, 3348, 4479, 2180, 3842, 4688, 2490, 3334, 2543, 8581, 15031, 2392, 2283, 4013, 7640, 4112, 6076, 6460, 721, 3446, 6827, 16426, 3547, 6727, 860, 5446, 8345, 1263, 7630, 5246, 8228, 4643, 6290, 4161, 6206, 4421, 3758, 1921, 9170, 5918, 5737, 13398, 3656, 17444, 3058, 7298, 7959, 4414, 2512, 5663, 7088, 4321, 3827, 10137, 7112, 1909, 7334, 3604, 943, 4955, 1081, 1082, 1682, 748, 798, 2679, 9036, 1904, 4164, 8007, 16710, 3694, 5711, 4810, 1992, 168, 819, 1105, 478, 800, 531, 4224, 3510, 14390, 6071, 12316, 4295, 8998, 11558, 5186, 11429, 2223, 12860, 61, 3015, 6767, 20362, 9246, 1249, 5339, 8493]\n"
     ]
    }
   ],
   "source": [
    "print(lengMFCC)"
   ]
  },
  {
   "cell_type": "code",
   "execution_count": 19,
   "metadata": {},
   "outputs": [
    {
     "data": {
      "text/plain": [
       "(20362, 61, 5740.171171171171)"
      ]
     },
     "execution_count": 19,
     "metadata": {},
     "output_type": "execute_result"
    }
   ],
   "source": [
    "max(lengMFCC),min(lengMFCC),sum(lengMFCC)/len(lengMFCC)"
   ]
  },
  {
   "cell_type": "code",
   "execution_count": 15,
   "metadata": {},
   "outputs": [
    {
     "data": {
      "text/plain": [
       "<matplotlib.collections.QuadMesh at 0x7f7eaa3e95f8>"
      ]
     },
     "execution_count": 15,
     "metadata": {},
     "output_type": "execute_result"
    },
    {
     "data": {
      "image/png": "[encoded data removed]",
      "text/plain": [
       "<Figure size 432x288 with 1 Axes>"
      ]
     },
     "metadata": {
      "needs_background": "light"
     },
     "output_type": "display_data"
    }
   ],
   "source": [
    "import sklearn\n",
    "mfccs = sklearn.preprocessing.scale(sceneMFCC[0], axis=1)\n",
    "#print(mfccs.mean(axis=1))\n",
    "#print(mfccs.var(axis=1))\n",
    "librosa.display.specshow(mfccs, sr=sr, x_axis='time')"
   ]
  },
  {
   "cell_type": "code",
   "execution_count": 16,
   "metadata": {},
   "outputs": [
    {
     "data": {
      "text/plain": [
       "<matplotlib.collections.QuadMesh at 0x7f7e9989ae48>"
      ]
     },
     "execution_count": 16,
     "metadata": {},
     "output_type": "execute_result"
    },
    {
     "data": {
      "image/png": "[encoded data removed]",
      "text/plain": [
       "<Figure size 432x288 with 1 Axes>"
      ]
     },
     "metadata": {
      "needs_background": "light"
     },
     "output_type": "display_data"
    }
   ],
   "source": [
    "mfccs = sklearn.preprocessing.scale(sceneMFCC[1], axis=1)\n",
    "#print(mfccs.mean(axis=1))\n",
    "#print(mfccs.var(axis=1))\n",
    "librosa.display.specshow(mfccs, sr=sr, x_axis='time')"
   ]
  },
  {
   "cell_type": "code",
   "execution_count": 1,
   "metadata": {},
   "outputs": [],
   "source": [
    "#Extract Music Features "
   ]
  },
  {
   "cell_type": "code",
   "execution_count": 4,
   "metadata": {},
   "outputs": [],
   "source": [
    "x, sr = librosa.load(\"SceneAudio/Scene_1.wav\",sr=16000)"
   ]
  },
  {
   "cell_type": "code",
   "execution_count": 17,
   "metadata": {},
   "outputs": [],
   "source": [
    "n0 = 9000\n",
    "n1 = 9100\n",
    "zero_crossings = librosa.zero_crossings(x, pad=False)"
   ]
  },
  {
   "cell_type": "code",
   "execution_count": 18,
   "metadata": {},
   "outputs": [
    {
     "data": {
      "text/plain": [
       "(1156159,)"
      ]
     },
     "execution_count": 18,
     "metadata": {},
     "output_type": "execute_result"
    }
   ],
   "source": [
    "zero_crossings.shape"
   ]
  },
  {
   "cell_type": "code",
   "execution_count": 19,
   "metadata": {},
   "outputs": [
    {
     "data": {
      "text/plain": [
       "(1, 2259)"
      ]
     },
     "execution_count": 19,
     "metadata": {},
     "output_type": "execute_result"
    }
   ],
   "source": [
    "spectral_centroids = librosa.feature.spectral_centroid(x, sr=sr)\n",
    "spectral_centroids.shape"
   ]
  },
  {
   "cell_type": "code",
   "execution_count": 21,
   "metadata": {},
   "outputs": [
    {
     "data": {
      "text/plain": [
       "(1, 2259)"
      ]
     },
     "execution_count": 21,
     "metadata": {},
     "output_type": "execute_result"
    }
   ],
   "source": [
    "spectral_rolloff = librosa.feature.spectral_rolloff(x, sr=sr)\n",
    "spectral_rolloff.shape"
   ]
  },
  {
   "cell_type": "code",
   "execution_count": 29,
   "metadata": {},
   "outputs": [
    {
     "data": {
      "text/plain": [
       "(12, 2259)"
      ]
     },
     "execution_count": 29,
     "metadata": {},
     "output_type": "execute_result"
    }
   ],
   "source": [
    "hop_length = 512\n",
    "chromagram = librosa.feature.chroma_stft(x, sr=sr, hop_length=hop_length)\n",
    "chromagram.shape"
   ]
  },
  {
   "cell_type": "code",
   "execution_count": 30,
   "metadata": {},
   "outputs": [
    {
     "data": {
      "text/plain": [
       "array([0.52046984, 0.7655951 , 0.5330108 , ..., 0.8274518 , 0.8035275 ,\n",
       "       0.7581361 ], dtype=float32)"
      ]
     },
     "execution_count": 30,
     "metadata": {},
     "output_type": "execute_result"
    }
   ],
   "source": [
    "chromagram[0]"
   ]
  },
  {
   "cell_type": "code",
   "execution_count": 31,
   "metadata": {},
   "outputs": [],
   "source": [
    "tempogram=librosa.feature.tempogram(x,sr=sr)"
   ]
  },
  {
   "cell_type": "code",
   "execution_count": 32,
   "metadata": {},
   "outputs": [
    {
     "data": {
      "text/plain": [
       "(384, 2259)"
      ]
     },
     "execution_count": 32,
     "metadata": {},
     "output_type": "execute_result"
    }
   ],
   "source": [
    "tempogram.shape"
   ]
  },
  {
   "cell_type": "code",
   "execution_count": 38,
   "metadata": {},
   "outputs": [
    {
     "data": {
      "text/plain": [
       "array([0.53287254, 0.53348798, 0.53410194, ..., 0.39150048, 0.390513  ,\n",
       "       0.38952942])"
      ]
     },
     "execution_count": 38,
     "metadata": {},
     "output_type": "execute_result"
    }
   ],
   "source": [
    "tempogram[6]"
   ]
  },
  {
   "cell_type": "code",
   "execution_count": 46,
   "metadata": {},
   "outputs": [],
   "source": [
    "textEmbedding=\"/people/berhe/Bureau/Scene_Linking_Project/Data/Scene_Doc2Vec_Embedding.npy\"\n",
    "textEmbeddingBert=\"/people/berhe/Bureau/Scene_Linking_Project/Data/Scene_Infersent_Embeddings.npy\"\n",
    "txtEmb=np.load(textEmbedding)\n",
    "textEmbInfer_Sent=np.load(textEmbeddingBert,allow_pickle=True)"
   ]
  },
  {
   "cell_type": "code",
   "execution_count": 44,
   "metadata": {},
   "outputs": [
    {
     "data": {
      "text/plain": [
       "(444, 100)"
      ]
     },
     "execution_count": 44,
     "metadata": {},
     "output_type": "execute_result"
    }
   ],
   "source": [
    "txtEmb.shape"
   ]
  },
  {
   "cell_type": "code",
   "execution_count": 42,
   "metadata": {},
   "outputs": [
    {
     "data": {
      "text/plain": [
       "(768,)"
      ]
     },
     "execution_count": 42,
     "metadata": {},
     "output_type": "execute_result"
    }
   ],
   "source": [
    "txtEmb[0].shape"
   ]
  },
  {
   "cell_type": "code",
   "execution_count": 47,
   "metadata": {},
   "outputs": [
    {
     "data": {
      "text/plain": [
       "(433,)"
      ]
     },
     "execution_count": 47,
     "metadata": {},
     "output_type": "execute_result"
    }
   ],
   "source": [
    "textEmbInfer_Sent.shape"
   ]
  },
  {
   "cell_type": "code",
   "execution_count": 48,
   "metadata": {},
   "outputs": [
    {
     "data": {
      "text/plain": [
       "(22, 4096)"
      ]
     },
     "execution_count": 48,
     "metadata": {},
     "output_type": "execute_result"
    }
   ],
   "source": [
    "textEmbInfer_Sent[0].shape"
   ]
  },
  {
   "cell_type": "code",
   "execution_count": 31,
   "metadata": {},
   "outputs": [
    {
     "name": "stdout",
     "output_type": "stream",
     "text": [
      "Scene 444\r"
     ]
    }
   ],
   "source": [
    "pitch_tracks=[]\n",
    "pitch_tunning=[]\n",
    "magnitude=[]\n",
    "for i in range(1,445):\n",
    "    x, sr = librosa.load(\"SceneAudio/Scene_\"+str(i)+\".wav\",sr=16000)\n",
    "    pitches, magnitudes = librosa.piptrack(y=x, sr=sr)\n",
    "    sys.stdout.write('Scene %s\\r' % i)\n",
    "    sys.stdout.flush()\n",
    "    pitch_tracks.append(pitches)\n",
    "    pitch_tunning.append(librosa.pitch_tuning(pitches))\n",
    "    magnitude.append(magnitudes)\n",
    "\n",
    "with open (\"Pitch_Tracking_features_as_list\",'wb') as file:\n",
    "    pickle.dump(pitch_tracks,file)\n",
    "with open (\"Magnitude_features_as_list\",'wb') as file:\n",
    "    pickle.dump(magnitude,file)\n",
    "with open (\"Pitch_Tunning_features_as_list\",'wb') as file:\n",
    "    pickle.dump(pitch_tunning,file)"
   ]
  },
  {
   "cell_type": "code",
   "execution_count": 44,
   "metadata": {},
   "outputs": [],
   "source": [
    "import preprocessAudioFeat as paf"
   ]
  },
  {
   "cell_type": "code",
   "execution_count": 47,
   "metadata": {},
   "outputs": [],
   "source": [
    "pitchFeat=paf.augment_reshape(pitch_tracks,4000)"
   ]
  },
  {
   "cell_type": "code",
   "execution_count": 48,
   "metadata": {},
   "outputs": [
    {
     "data": {
      "text/plain": [
       "(444, 1025, 4000)"
      ]
     },
     "execution_count": 48,
     "metadata": {},
     "output_type": "execute_result"
    }
   ],
   "source": [
    "pitchFeat.shape"
   ]
  },
  {
   "cell_type": "code",
   "execution_count": 33,
   "metadata": {},
   "outputs": [
    {
     "name": "stdout",
     "output_type": "stream",
     "text": [
      "44 14776 4167.25\n"
     ]
    }
   ],
   "source": [
    "length=[i.shape[1] for i in pitch_tracks]\n",
    "print(min(length),max(length),sum(length)/len(length))"
   ]
  },
  {
   "cell_type": "code",
   "execution_count": 35,
   "metadata": {},
   "outputs": [
    {
     "name": "stdout",
     "output_type": "stream",
     "text": [
      "[2053, 4107, 4113, 2041, 2086, 44, 4144, 2098, 4163, 8266, 6223, 8272, 6227, 2139, 6243, 8293, 6248, 8303, 122, 8318, 6276, 4228, 2188, 4237, 6307, 2212, 4261, 2219, 8371, 2236, 8387, 4294, 10442, 2252, 6349, 2259, 6356, 6362, 223, 2284, 4341, 2293, 6393, 6396, 4349, 2327, 2328, 4377, 2337, 2348, 2349, 2352, 4406, 4409, 4418, 2381, 336, 2387, 347, 8556, 4464, 2418, 2419, 6516, 12658, 2428, 2429, 6529, 386, 2438, 6541, 4496, 8594, 4498, 4503, 2461, 6557, 416, 4512, 2466, 2472, 6577, 437, 2486, 4534, 14776, 6593, 2499, 2501, 4551, 6599, 2505, 2516, 4564, 8673, 2547, 4599, 6654, 4609, 4614, 2569, 4619, 523, 6669, 2574, 6677, 10778, 543, 4642, 10792, 4651, 6708, 4661, 2614, 6709, 2616, 8761, 2619, 579, 581, 4688, 594, 2648, 2653, 2659, 6759, 617, 622, 623, 2672, 2673, 624, 4724, 2681, 8826, 6784, 641, 2702, 2706, 10907, 2719, 2727, 2729, 4779, 684, 4792, 6841, 4801, 2763, 2764, 726, 2777, 4828, 2788, 8937, 762, 6909, 2814, 4874, 2832, 784, 4882, 786, 793, 6939, 4892, 4897, 802, 13091, 2857, 6957, 4911, 13106, 2872, 824, 6972, 2877, 2888, 2901, 6999, 4952, 857, 11097, 856, 4956, 2904, 2907, 4958, 7008, 2912, 4954, 868, 2922, 883, 2941, 907, 9101, 2958, 2963, 5012, 917, 2968, 929, 932, 2984, 942, 7088, 7089, 2994, 2999, 7097, 3007, 971, 3019, 3022, 9180, 989, 5089, 996, 5099, 7158, 3063, 7159, 7161, 3064, 3066, 5117, 5119, 3079, 3081, 1039, 3091, 5143, 3096, 3101, 3106, 3113, 3114, 5161, 7212, 3117, 3136, 3146, 1107, 1109, 5208, 11354, 5211, 1126, 3182, 1136, 9332, 5239, 5243, 3203, 3208, 3209, 3216, 3218, 3221, 1188, 11436, 7342, 3248, 5296, 3251, 1206, 7356, 5309, 1221, 5322, 3289, 1242, 1249, 1272, 7421, 7423, 7426, 3338, 3347, 3354, 9511, 3369, 5419, 3373, 5424, 3377, 5429, 3382, 7479, 5431, 3389, 11585, 5443, 3397, 5449, 3402, 1356, 7507, 3416, 3417, 1378, 1382, 1386, 5487, 1394, 5508, 3464, 3474, 5537, 5539, 5540, 3491, 1446, 5544, 3498, 5547, 1459, 1462, 5572, 3529, 3533, 1491, 3539, 3554, 9699, 3564, 9722, 1534, 5636, 1541, 3592, 3596, 3599, 3602, 3616, 1582, 5688, 1606, 1607, 7757, 1613, 7759, 9809, 3669, 1622, 3681, 1634, 5741, 1657, 3706, 7803, 1668, 3719, 11919, 5776, 7833, 5787, 5788, 5798, 1707, 3759, 3761, 5811, 3763, 3778, 1734, 3782, 1736, 3789, 1743, 1746, 5843, 3797, 1752, 3805, 3812, 1768, 7916, 3822, 7919, 3823, 1781, 1782, 1799, 1807, 1808, 1811, 5908, 1823, 3874, 3876, 1832, 3886, 5938, 10037, 1846, 10039, 3898, 3899, 3903, 8001, 1862, 1874, 5971, 5974, 12126, 3952, 3962, 1914, 3981, 3989, 1942, 1944, 6056, 1964, 1981, 6077, 8128, 4033, 4036, 2002, 4054, 8157, 6114, 2024, 8179, 4089]\n"
     ]
    }
   ],
   "source": [
    "print(list(set(length)))"
   ]
  },
  {
   "cell_type": "code",
   "execution_count": 43,
   "metadata": {},
   "outputs": [
    {
     "data": {
      "text/plain": [
       "96"
      ]
     },
     "execution_count": 43,
     "metadata": {},
     "output_type": "execute_result"
    }
   ],
   "source": [
    "gret=[i for i in length if i>=6000]\n",
    "len(gret)"
   ]
  },
  {
   "cell_type": "code",
   "execution_count": 38,
   "metadata": {},
   "outputs": [
    {
     "data": {
      "text/plain": [
       "352"
      ]
     },
     "execution_count": 38,
     "metadata": {},
     "output_type": "execute_result"
    }
   ],
   "source": [
    "len(gret)"
   ]
  },
  {
   "cell_type": "markdown",
   "metadata": {},
   "source": [
    "# Music Features"
   ]
  },
  {
   "cell_type": "code",
   "execution_count": 50,
   "metadata": {},
   "outputs": [
    {
     "name": "stdout",
     "output_type": "stream",
     "text": [
      "Scene 444\r"
     ]
    },
    {
     "ename": "NameError",
     "evalue": "name 'specFeat' is not defined",
     "output_type": "error",
     "traceback": [
      "\u001b[0;31m---------------------------------------------------------------------------\u001b[0m",
      "\u001b[0;31mNameError\u001b[0m                                 Traceback (most recent call last)",
      "\u001b[0;32m<ipython-input-50-337b536d8135>\u001b[0m in \u001b[0;36m<module>\u001b[0;34m\u001b[0m\n\u001b[1;32m      9\u001b[0m     \u001b[0mchromagramFeat\u001b[0m\u001b[0;34m.\u001b[0m\u001b[0mappend\u001b[0m\u001b[0;34m(\u001b[0m\u001b[0mchromagram\u001b[0m\u001b[0;34m)\u001b[0m\u001b[0;34m\u001b[0m\u001b[0;34m\u001b[0m\u001b[0m\n\u001b[1;32m     10\u001b[0m     \u001b[0mtempogramFeat\u001b[0m\u001b[0;34m.\u001b[0m\u001b[0mappend\u001b[0m\u001b[0;34m(\u001b[0m\u001b[0mtempogram\u001b[0m\u001b[0;34m)\u001b[0m\u001b[0;34m\u001b[0m\u001b[0;34m\u001b[0m\u001b[0m\n\u001b[0;32m---> 11\u001b[0;31m \u001b[0;32mwith\u001b[0m \u001b[0mopen\u001b[0m \u001b[0;34m(\u001b[0m\u001b[0;34m\"Chromagram_features_as_list\"\u001b[0m\u001b[0;34m+\u001b[0m\u001b[0mspecFeat\u001b[0m\u001b[0;34m,\u001b[0m\u001b[0;34m'wb'\u001b[0m\u001b[0;34m)\u001b[0m \u001b[0;32mas\u001b[0m \u001b[0mfile\u001b[0m\u001b[0;34m:\u001b[0m\u001b[0;34m\u001b[0m\u001b[0;34m\u001b[0m\u001b[0m\n\u001b[0m\u001b[1;32m     12\u001b[0m     \u001b[0mpickle\u001b[0m\u001b[0;34m.\u001b[0m\u001b[0mdump\u001b[0m\u001b[0;34m(\u001b[0m\u001b[0mchromagramFeat\u001b[0m\u001b[0;34m,\u001b[0m\u001b[0mfile\u001b[0m\u001b[0;34m)\u001b[0m\u001b[0;34m\u001b[0m\u001b[0;34m\u001b[0m\u001b[0m\n\u001b[1;32m     13\u001b[0m \u001b[0;32mwith\u001b[0m \u001b[0mopen\u001b[0m \u001b[0;34m(\u001b[0m\u001b[0;34m\"Tempogra_features_as_list\"\u001b[0m\u001b[0;34m+\u001b[0m\u001b[0mspecFeat\u001b[0m\u001b[0;34m,\u001b[0m\u001b[0;34m'wb'\u001b[0m\u001b[0;34m)\u001b[0m \u001b[0;32mas\u001b[0m \u001b[0mfile\u001b[0m\u001b[0;34m:\u001b[0m\u001b[0;34m\u001b[0m\u001b[0;34m\u001b[0m\u001b[0m\n",
      "\u001b[0;31mNameError\u001b[0m: name 'specFeat' is not defined"
     ]
    }
   ],
   "source": [
    "chromagramFeat=[]\n",
    "tempogramFeat=[]\n",
    "for i in range(1,445):\n",
    "    x, sr = librosa.load(\"SceneAudio/Scene_\"+str(i)+\".wav\",sr=16000)\n",
    "    chromagram = librosa.feature.chroma_stft(x, sr=sr, hop_length=hop_length)\n",
    "    tempogram=librosa.feature.tempogram(x,sr=sr)\n",
    "    sys.stdout.write('Scene %s\\r' % i)\n",
    "    sys.stdout.flush()\n",
    "    chromagramFeat.append(chromagram)\n",
    "    tempogramFeat.append(tempogram)\n"
   ]
  },
  {
   "cell_type": "code",
   "execution_count": 77,
   "metadata": {},
   "outputs": [],
   "source": [
    "with open (\"Chromagram_features_as_list\",'wb') as file:\n",
    "    pickle.dump(chromagramFeat,file)\n",
    "with open (\"Tempogram_features_as_list\",'wb') as file:\n",
    "    pickle.dump(tempogramFeat,file)"
   ]
  },
  {
   "cell_type": "code",
   "execution_count": 52,
   "metadata": {},
   "outputs": [
    {
     "data": {
      "text/plain": [
       "(384, 2259)"
      ]
     },
     "execution_count": 52,
     "metadata": {},
     "output_type": "execute_result"
    }
   ],
   "source": [
    "tempogramFeat[0].shape"
   ]
  },
  {
   "cell_type": "code",
   "execution_count": 53,
   "metadata": {},
   "outputs": [],
   "source": [
    "tgmLeng=[i.shape[1] for i in tempogramFeat]"
   ]
  },
  {
   "cell_type": "code",
   "execution_count": 54,
   "metadata": {},
   "outputs": [
    {
     "data": {
      "text/plain": [
       "(14776, 44, 4167.25)"
      ]
     },
     "execution_count": 54,
     "metadata": {},
     "output_type": "execute_result"
    }
   ],
   "source": [
    "max(tgmLeng),min(tgmLeng),sum(tgmLeng)/len(tgmLeng)"
   ]
  },
  {
   "cell_type": "code",
   "execution_count": 60,
   "metadata": {},
   "outputs": [
    {
     "data": {
      "text/plain": [
       "(352, 92)"
      ]
     },
     "execution_count": 60,
     "metadata": {},
     "output_type": "execute_result"
    }
   ],
   "source": [
    "gr=[i for i in tgmLeng if i>2000]\n",
    "sm=[i for i in tgmLeng if i<2000]\n",
    "len(gr),len(sm)"
   ]
  },
  {
   "cell_type": "code",
   "execution_count": 10,
   "metadata": {},
   "outputs": [],
   "source": [
    "import preprocessAudioFeat as paf"
   ]
  },
  {
   "cell_type": "code",
   "execution_count": 11,
   "metadata": {},
   "outputs": [],
   "source": [
    "def load_musicFeat():\n",
    "    with open (\"Tempogram_features_as_list\",'rb') as file:\n",
    "        tempogramFeat=pickle.load(file)\n",
    "    with open (\"Chromagram_features_as_list\",'rb') as file:\n",
    "        chromagramFeat=pickle.load(file)\n",
    "    tempogram=paf.augment_reshape(tempogramFeat,2000)\n",
    "    chromagram=paf.augment_reshape(chromagramFeat,2000)\n",
    "    \n",
    "    return tempogram,chromagram"
   ]
  },
  {
   "cell_type": "code",
   "execution_count": 12,
   "metadata": {},
   "outputs": [],
   "source": [
    "tempogram,chromagram=load_musicFeat()"
   ]
  },
  {
   "cell_type": "code",
   "execution_count": 13,
   "metadata": {},
   "outputs": [
    {
     "data": {
      "text/plain": [
       "(444, 384, 2000)"
      ]
     },
     "execution_count": 13,
     "metadata": {},
     "output_type": "execute_result"
    }
   ],
   "source": [
    "tempogram.shape"
   ]
  },
  {
   "cell_type": "code",
   "execution_count": 76,
   "metadata": {},
   "outputs": [
    {
     "data": {
      "text/plain": [
       "(444, 12, 2000)"
      ]
     },
     "execution_count": 76,
     "metadata": {},
     "output_type": "execute_result"
    }
   ],
   "source": [
    "chromagram.shape"
   ]
  },
  {
   "cell_type": "code",
   "execution_count": 138,
   "metadata": {},
   "outputs": [],
   "source": [
    "arr1=np.array([[[1,2,3],[2,5,6],[7,8,9]],[[1,2,3],[2,5,6],[7,8,9]]])\n",
    "arr2=np.array([[[1.1,2.1,3.1],[2.1,5.1,6.1],[7.1,8.1,9.1]],[[1.2,2.2,3.2],[2.2,5.2,6.2],[7.2,8.2,9.2]]])\n",
    "arr3=np.array([[1.11,2.11,3.11],[2.11,5.11,6.11]])"
   ]
  },
  {
   "cell_type": "code",
   "execution_count": 111,
   "metadata": {},
   "outputs": [
    {
     "data": {
      "text/plain": [
       "((2, 3, 3), (2, 3, 3), (2, 3))"
      ]
     },
     "execution_count": 111,
     "metadata": {},
     "output_type": "execute_result"
    }
   ],
   "source": [
    "arr1.shape,arr2.shape,arr3.shape"
   ]
  },
  {
   "cell_type": "code",
   "execution_count": 112,
   "metadata": {},
   "outputs": [],
   "source": [
    "con=np.concatenate((arr1,arr2),axis=1)"
   ]
  },
  {
   "cell_type": "code",
   "execution_count": 100,
   "metadata": {},
   "outputs": [
    {
     "data": {
      "text/plain": [
       "array([[[1. , 2. , 3. ],\n",
       "        [2. , 5. , 6. ],\n",
       "        [7. , 8. , 9. ],\n",
       "        [1.1, 2.1, 3.1],\n",
       "        [2.1, 5.1, 6.1],\n",
       "        [7.1, 8.1, 9.1]],\n",
       "\n",
       "       [[1. , 2. , 3. ],\n",
       "        [2. , 5. , 6. ],\n",
       "        [7. , 8. , 9. ],\n",
       "        [1.2, 2.2, 3.2],\n",
       "        [2.2, 5.2, 6.2],\n",
       "        [7.2, 8.2, 9.2]]])"
      ]
     },
     "execution_count": 100,
     "metadata": {},
     "output_type": "execute_result"
    }
   ],
   "source": [
    "con"
   ]
  },
  {
   "cell_type": "code",
   "execution_count": 102,
   "metadata": {},
   "outputs": [
    {
     "data": {
      "text/plain": [
       "(2, 6, 3)"
      ]
     },
     "execution_count": 102,
     "metadata": {},
     "output_type": "execute_result"
    }
   ],
   "source": [
    "con.shape"
   ]
  },
  {
   "cell_type": "code",
   "execution_count": 103,
   "metadata": {},
   "outputs": [],
   "source": [
    "con1=np.concatenate((arr1,arr2),axis=2)"
   ]
  },
  {
   "cell_type": "code",
   "execution_count": 104,
   "metadata": {},
   "outputs": [
    {
     "data": {
      "text/plain": [
       "array([[[1. , 2. , 3. , 1.1, 2.1, 3.1],\n",
       "        [2. , 5. , 6. , 2.1, 5.1, 6.1],\n",
       "        [7. , 8. , 9. , 7.1, 8.1, 9.1]],\n",
       "\n",
       "       [[1. , 2. , 3. , 1.2, 2.2, 3.2],\n",
       "        [2. , 5. , 6. , 2.2, 5.2, 6.2],\n",
       "        [7. , 8. , 9. , 7.2, 8.2, 9.2]]])"
      ]
     },
     "execution_count": 104,
     "metadata": {},
     "output_type": "execute_result"
    }
   ],
   "source": [
    "con1"
   ]
  },
  {
   "cell_type": "code",
   "execution_count": 147,
   "metadata": {},
   "outputs": [
    {
     "ename": "ValueError",
     "evalue": "all the input array dimensions for the concatenation axis must match exactly, but along dimension 1, the array at index 0 has size 6 and the array at index 1 has size 1",
     "output_type": "error",
     "traceback": [
      "\u001b[0;31m---------------------------------------------------------------------------\u001b[0m",
      "\u001b[0;31mValueError\u001b[0m                                Traceback (most recent call last)",
      "\u001b[0;32m<ipython-input-147-ac7ded978c54>\u001b[0m in \u001b[0;36m<module>\u001b[0;34m\u001b[0m\n\u001b[0;32m----> 1\u001b[0;31m \u001b[0mcon_12\u001b[0m\u001b[0;34m=\u001b[0m\u001b[0mnp\u001b[0m\u001b[0;34m.\u001b[0m\u001b[0mappend\u001b[0m\u001b[0;34m(\u001b[0m\u001b[0mcon\u001b[0m\u001b[0;34m,\u001b[0m \u001b[0mnp\u001b[0m\u001b[0;34m.\u001b[0m\u001b[0matleast_3d\u001b[0m\u001b[0;34m(\u001b[0m\u001b[0marr32\u001b[0m\u001b[0;34m)\u001b[0m\u001b[0;34m,\u001b[0m \u001b[0maxis\u001b[0m\u001b[0;34m=\u001b[0m\u001b[0;36m0\u001b[0m\u001b[0;34m)\u001b[0m\u001b[0;34m\u001b[0m\u001b[0;34m\u001b[0m\u001b[0m\n\u001b[0m",
      "\u001b[0;32m<__array_function__ internals>\u001b[0m in \u001b[0;36mappend\u001b[0;34m(*args, **kwargs)\u001b[0m\n",
      "\u001b[0;32m~/anaconda3/envs/audio_env/lib/python3.6/site-packages/numpy/lib/function_base.py\u001b[0m in \u001b[0;36mappend\u001b[0;34m(arr, values, axis)\u001b[0m\n\u001b[1;32m   4691\u001b[0m         \u001b[0mvalues\u001b[0m \u001b[0;34m=\u001b[0m \u001b[0mravel\u001b[0m\u001b[0;34m(\u001b[0m\u001b[0mvalues\u001b[0m\u001b[0;34m)\u001b[0m\u001b[0;34m\u001b[0m\u001b[0;34m\u001b[0m\u001b[0m\n\u001b[1;32m   4692\u001b[0m         \u001b[0maxis\u001b[0m \u001b[0;34m=\u001b[0m \u001b[0marr\u001b[0m\u001b[0;34m.\u001b[0m\u001b[0mndim\u001b[0m\u001b[0;34m-\u001b[0m\u001b[0;36m1\u001b[0m\u001b[0;34m\u001b[0m\u001b[0;34m\u001b[0m\u001b[0m\n\u001b[0;32m-> 4693\u001b[0;31m     \u001b[0;32mreturn\u001b[0m \u001b[0mconcatenate\u001b[0m\u001b[0;34m(\u001b[0m\u001b[0;34m(\u001b[0m\u001b[0marr\u001b[0m\u001b[0;34m,\u001b[0m \u001b[0mvalues\u001b[0m\u001b[0;34m)\u001b[0m\u001b[0;34m,\u001b[0m \u001b[0maxis\u001b[0m\u001b[0;34m=\u001b[0m\u001b[0maxis\u001b[0m\u001b[0;34m)\u001b[0m\u001b[0;34m\u001b[0m\u001b[0;34m\u001b[0m\u001b[0m\n\u001b[0m\u001b[1;32m   4694\u001b[0m \u001b[0;34m\u001b[0m\u001b[0m\n\u001b[1;32m   4695\u001b[0m \u001b[0;34m\u001b[0m\u001b[0m\n",
      "\u001b[0;32m<__array_function__ internals>\u001b[0m in \u001b[0;36mconcatenate\u001b[0;34m(*args, **kwargs)\u001b[0m\n",
      "\u001b[0;31mValueError\u001b[0m: all the input array dimensions for the concatenation axis must match exactly, but along dimension 1, the array at index 0 has size 6 and the array at index 1 has size 1"
     ]
    }
   ],
   "source": [
    "con_12=np.append(con, np.atleast_3d(arr32), axis=0)"
   ]
  },
  {
   "cell_type": "code",
   "execution_count": 120,
   "metadata": {},
   "outputs": [
    {
     "ename": "ValueError",
     "evalue": "operands could not be broadcast together with shapes (2,6,3) (2,3) ",
     "output_type": "error",
     "traceback": [
      "\u001b[0;31m---------------------------------------------------------------------------\u001b[0m",
      "\u001b[0;31mValueError\u001b[0m                                Traceback (most recent call last)",
      "\u001b[0;32m<ipython-input-120-b75c14226d71>\u001b[0m in \u001b[0;36m<module>\u001b[0;34m\u001b[0m\n\u001b[0;32m----> 1\u001b[0;31m \u001b[0ma\u001b[0m\u001b[0;34m=\u001b[0m\u001b[0mcon\u001b[0m\u001b[0;34m+\u001b[0m\u001b[0marr3\u001b[0m\u001b[0;34m\u001b[0m\u001b[0;34m\u001b[0m\u001b[0m\n\u001b[0m",
      "\u001b[0;31mValueError\u001b[0m: operands could not be broadcast together with shapes (2,6,3) (2,3) "
     ]
    }
   ],
   "source": [
    "a=con+arr3"
   ]
  },
  {
   "cell_type": "code",
   "execution_count": 143,
   "metadata": {},
   "outputs": [],
   "source": [
    "arr32=arr3.reshape(arr1.shape[0],1,arr1.shape[1])"
   ]
  },
  {
   "cell_type": "code",
   "execution_count": 145,
   "metadata": {},
   "outputs": [
    {
     "data": {
      "text/plain": [
       "(2, 1, 3)"
      ]
     },
     "execution_count": 145,
     "metadata": {},
     "output_type": "execute_result"
    }
   ],
   "source": [
    "arr32.shape"
   ]
  },
  {
   "cell_type": "code",
   "execution_count": 133,
   "metadata": {},
   "outputs": [
    {
     "data": {
      "text/plain": [
       "array([[[1.  , 2.  , 3.  , 1.11],\n",
       "        [2.  , 5.  , 6.  , 2.11],\n",
       "        [7.  , 8.  , 9.  , 3.11]],\n",
       "\n",
       "       [[1.  , 2.  , 3.  , 2.11],\n",
       "        [2.  , 5.  , 6.  , 5.11],\n",
       "        [7.  , 8.  , 9.  , 6.11]]])"
      ]
     },
     "execution_count": 133,
     "metadata": {},
     "output_type": "execute_result"
    }
   ],
   "source": [
    "con_12"
   ]
  },
  {
   "cell_type": "code",
   "execution_count": 20,
   "metadata": {},
   "outputs": [],
   "source": [
    "df=pd.read_csv(\"results.csv\",sep=',')"
   ]
  },
  {
   "cell_type": "code",
   "execution_count": 21,
   "metadata": {},
   "outputs": [
    {
     "data": {
      "text/html": [
       "<div>\n",
       "<style scoped>\n",
       "    .dataframe tbody tr th:only-of-type {\n",
       "        vertical-align: middle;\n",
       "    }\n",
       "\n",
       "    .dataframe tbody tr th {\n",
       "        vertical-align: top;\n",
       "    }\n",
       "\n",
       "    .dataframe thead th {\n",
       "        text-align: right;\n",
       "    }\n",
       "</style>\n",
       "<table border=\"1\" class=\"dataframe\">\n",
       "  <thead>\n",
       "    <tr style=\"text-align: right;\">\n",
       "      <th></th>\n",
       "      <th>Filename'</th>\n",
       "      <th>'Min'</th>\n",
       "      <th>'Max'</th>\n",
       "      <th>'Mean'</th>\n",
       "      <th>'Median'</th>\n",
       "      <th>'Std'</th>\n",
       "      <th>'Dur'</th>\n",
       "    </tr>\n",
       "  </thead>\n",
       "  <tbody>\n",
       "    <tr>\n",
       "      <th>0</th>\n",
       "      <td>Scene_1</td>\n",
       "      <td>'198.78'</td>\n",
       "      <td>'581.04'</td>\n",
       "      <td>'291.97'</td>\n",
       "      <td>'248.19'</td>\n",
       "      <td>'98.52'</td>\n",
       "      <td>'72.26'</td>\n",
       "    </tr>\n",
       "    <tr>\n",
       "      <th>1</th>\n",
       "      <td>Scene_10</td>\n",
       "      <td>'198.86'</td>\n",
       "      <td>'588.65'</td>\n",
       "      <td>'295.71'</td>\n",
       "      <td>'275.65'</td>\n",
       "      <td>'91.07'</td>\n",
       "      <td>'91.40'</td>\n",
       "    </tr>\n",
       "    <tr>\n",
       "      <th>2</th>\n",
       "      <td>Scene_100</td>\n",
       "      <td>'198.83'</td>\n",
       "      <td>'593.80'</td>\n",
       "      <td>'282.22'</td>\n",
       "      <td>'245.06'</td>\n",
       "      <td>'95.01'</td>\n",
       "      <td>'121.24'</td>\n",
       "    </tr>\n",
       "    <tr>\n",
       "      <th>3</th>\n",
       "      <td>Scene_101</td>\n",
       "      <td>'198.94'</td>\n",
       "      <td>'597.98'</td>\n",
       "      <td>'330.27'</td>\n",
       "      <td>'283.50'</td>\n",
       "      <td>'114.73'</td>\n",
       "      <td>'112.92'</td>\n",
       "    </tr>\n",
       "    <tr>\n",
       "      <th>4</th>\n",
       "      <td>Scene_102</td>\n",
       "      <td>'198.91'</td>\n",
       "      <td>'596.62'</td>\n",
       "      <td>'283.02'</td>\n",
       "      <td>'242.52'</td>\n",
       "      <td>'94.76'</td>\n",
       "      <td>'57.84'</td>\n",
       "    </tr>\n",
       "    <tr>\n",
       "      <th>...</th>\n",
       "      <td>...</td>\n",
       "      <td>...</td>\n",
       "      <td>...</td>\n",
       "      <td>...</td>\n",
       "      <td>...</td>\n",
       "      <td>...</td>\n",
       "      <td>...</td>\n",
       "    </tr>\n",
       "    <tr>\n",
       "      <th>439</th>\n",
       "      <td>Scene_95</td>\n",
       "      <td>'198.95'</td>\n",
       "      <td>'576.87'</td>\n",
       "      <td>'271.56'</td>\n",
       "      <td>'250.05'</td>\n",
       "      <td>'62.64'</td>\n",
       "      <td>'103.04'</td>\n",
       "    </tr>\n",
       "    <tr>\n",
       "      <th>440</th>\n",
       "      <td>Scene_96</td>\n",
       "      <td>'198.83'</td>\n",
       "      <td>'597.66'</td>\n",
       "      <td>'324.67'</td>\n",
       "      <td>'258.20'</td>\n",
       "      <td>'133.51'</td>\n",
       "      <td>'127.64'</td>\n",
       "    </tr>\n",
       "    <tr>\n",
       "      <th>441</th>\n",
       "      <td>Scene_97</td>\n",
       "      <td>'199.22'</td>\n",
       "      <td>'585.92'</td>\n",
       "      <td>'255.91'</td>\n",
       "      <td>'234.90'</td>\n",
       "      <td>'69.20'</td>\n",
       "      <td>'102.96'</td>\n",
       "    </tr>\n",
       "    <tr>\n",
       "      <th>442</th>\n",
       "      <td>Scene_98</td>\n",
       "      <td>'199.46'</td>\n",
       "      <td>'599.72'</td>\n",
       "      <td>'344.23'</td>\n",
       "      <td>'312.42'</td>\n",
       "      <td>'113.17'</td>\n",
       "      <td>'31.64'</td>\n",
       "    </tr>\n",
       "    <tr>\n",
       "      <th>443</th>\n",
       "      <td>Scene_99</td>\n",
       "      <td>'199.25'</td>\n",
       "      <td>'582.78'</td>\n",
       "      <td>'272.01'</td>\n",
       "      <td>'260.28'</td>\n",
       "      <td>'63.44'</td>\n",
       "      <td>'19.72'</td>\n",
       "    </tr>\n",
       "  </tbody>\n",
       "</table>\n",
       "<p>444 rows × 7 columns</p>\n",
       "</div>"
      ],
      "text/plain": [
       "     Filename'     'Min'     'Max'    'Mean'  'Median'     'Std'     'Dur'\n",
       "0      Scene_1  '198.78'  '581.04'  '291.97'  '248.19'   '98.52'   '72.26'\n",
       "1     Scene_10  '198.86'  '588.65'  '295.71'  '275.65'   '91.07'   '91.40'\n",
       "2    Scene_100  '198.83'  '593.80'  '282.22'  '245.06'   '95.01'  '121.24'\n",
       "3    Scene_101  '198.94'  '597.98'  '330.27'  '283.50'  '114.73'  '112.92'\n",
       "4    Scene_102  '198.91'  '596.62'  '283.02'  '242.52'   '94.76'   '57.84'\n",
       "..         ...       ...       ...       ...       ...       ...       ...\n",
       "439   Scene_95  '198.95'  '576.87'  '271.56'  '250.05'   '62.64'  '103.04'\n",
       "440   Scene_96  '198.83'  '597.66'  '324.67'  '258.20'  '133.51'  '127.64'\n",
       "441   Scene_97  '199.22'  '585.92'  '255.91'  '234.90'   '69.20'  '102.96'\n",
       "442   Scene_98  '199.46'  '599.72'  '344.23'  '312.42'  '113.17'   '31.64'\n",
       "443   Scene_99  '199.25'  '582.78'  '272.01'  '260.28'   '63.44'   '19.72'\n",
       "\n",
       "[444 rows x 7 columns]"
      ]
     },
     "execution_count": 21,
     "metadata": {},
     "output_type": "execute_result"
    }
   ],
   "source": [
    "df"
   ]
  },
  {
   "cell_type": "code",
   "execution_count": 23,
   "metadata": {},
   "outputs": [
    {
     "data": {
      "text/plain": [
       "Index(['Filename'', ''Min'', ''Max'', ''Mean'', ''Median'', ''Std'', ''Dur''], dtype='object')"
      ]
     },
     "execution_count": 23,
     "metadata": {},
     "output_type": "execute_result"
    }
   ],
   "source": [
    "df.columns"
   ]
  },
  {
   "cell_type": "code",
   "execution_count": 24,
   "metadata": {},
   "outputs": [],
   "source": [
    "df.columns=['a','b','c','d','e','f','h']"
   ]
  },
  {
   "cell_type": "code",
   "execution_count": 73,
   "metadata": {},
   "outputs": [],
   "source": [
    "minPitch=df.b.tolist()\n",
    "maxPitch=df.c.tolist()\n",
    "meanPitch=df.d.tolist()\n",
    "medianPitch=df.e.tolist()\n",
    "stdPitch=df.f.tolist()\n",
    "durPitch=df.h.tolist()"
   ]
  },
  {
   "cell_type": "code",
   "execution_count": 74,
   "metadata": {},
   "outputs": [],
   "source": [
    "minPitch=[float(i.replace(\"'\",\"\")) for i in minPitch]\n",
    "maxPitch=[float(i.replace(\"'\",\"\")) for i in maxPitch]\n",
    "meanPitch=[float(i.replace(\"'\",\"\")) for i in meanPitch]\n",
    "medianPitch=[float(i.replace(\"'\",\"\")) for i in medianPitch]\n",
    "stdPitch=[float(i.replace(\"'\",\"\")) for i in stdPitch]\n",
    "durPitch=[float(i.replace(\"'\",\"\")) for i in durPitch]"
   ]
  },
  {
   "cell_type": "code",
   "execution_count": 31,
   "metadata": {},
   "outputs": [
    {
     "data": {
      "text/plain": [
       "[291.97,\n",
       " 295.71,\n",
       " 282.22,\n",
       " 330.27,\n",
       " 283.02,\n",
       " 370.62,\n",
       " 280.83,\n",
       " 280.34,\n",
       " 299.84,\n",
       " 296.43,\n",
       " 298.44,\n",
       " 255.19,\n",
       " 294.82,\n",
       " 283.07,\n",
       " 307.89,\n",
       " 344.52,\n",
       " 310.7,\n",
       " 334.7,\n",
       " 262.45,\n",
       " 278.2,\n",
       " 328.18,\n",
       " 354.2,\n",
       " 335.3,\n",
       " 324.74,\n",
       " 311.93,\n",
       " 289.31,\n",
       " 333.59,\n",
       " 306.1,\n",
       " 320.94,\n",
       " 334.61,\n",
       " 292.46,\n",
       " 282.14,\n",
       " 285.72,\n",
       " 340.17,\n",
       " 269.71,\n",
       " 264.39,\n",
       " 324.53,\n",
       " 311.16,\n",
       " 300.68,\n",
       " 323.05,\n",
       " 323.87,\n",
       " 270.99,\n",
       " 327.87,\n",
       " 320.93,\n",
       " 289.76,\n",
       " 302.86,\n",
       " 293.4,\n",
       " 355.71,\n",
       " 303.57,\n",
       " 342.21,\n",
       " 254.06,\n",
       " 285.26,\n",
       " 329.41,\n",
       " 331.18,\n",
       " 361.06,\n",
       " 271.09,\n",
       " 393.82,\n",
       " 342.92,\n",
       " 272.23,\n",
       " 330.24,\n",
       " 269.06,\n",
       " 394.22,\n",
       " 343.07,\n",
       " 306.51,\n",
       " 294.04,\n",
       " 302.97,\n",
       " 333.88,\n",
       " 309.2,\n",
       " 316.45,\n",
       " 267.02,\n",
       " 308.58,\n",
       " 302.27,\n",
       " 366.06,\n",
       " 321.33,\n",
       " 336.9,\n",
       " 334.93,\n",
       " 282.08,\n",
       " 345.23,\n",
       " 257.32,\n",
       " 260.61,\n",
       " 329.43,\n",
       " 307.16,\n",
       " 273.45,\n",
       " 336.81,\n",
       " 332.22,\n",
       " 322.25,\n",
       " 274.17,\n",
       " 267.67,\n",
       " 288.94,\n",
       " 271.75,\n",
       " 290.07,\n",
       " 343.11,\n",
       " 304.98,\n",
       " 344.89,\n",
       " 353.86,\n",
       " 352.91,\n",
       " 273.24,\n",
       " 378.02,\n",
       " 300.91,\n",
       " 318.86,\n",
       " 329.35,\n",
       " 282.54,\n",
       " 255.22,\n",
       " 263.26,\n",
       " 376.39,\n",
       " 313.31,\n",
       " 350.33,\n",
       " 327.44,\n",
       " 307.85,\n",
       " 264.95,\n",
       " 285.06,\n",
       " 326.25,\n",
       " 311.75,\n",
       " 287.66,\n",
       " 277.51,\n",
       " 304.36,\n",
       " 295.73,\n",
       " 288.43,\n",
       " 286.0,\n",
       " 305.55,\n",
       " 289.65,\n",
       " 270.49,\n",
       " 291.4,\n",
       " 275.05,\n",
       " 316.99,\n",
       " 275.55,\n",
       " 277.57,\n",
       " 340.17,\n",
       " 365.2,\n",
       " 294.36,\n",
       " 344.02,\n",
       " 294.33,\n",
       " 322.07,\n",
       " 286.41,\n",
       " 293.52,\n",
       " 313.45,\n",
       " 265.27,\n",
       " 303.77,\n",
       " 311.86,\n",
       " 283.15,\n",
       " 296.52,\n",
       " 301.5,\n",
       " 289.87,\n",
       " 338.85,\n",
       " 266.71,\n",
       " 342.57,\n",
       " 280.67,\n",
       " 330.76,\n",
       " 293.81,\n",
       " 314.9,\n",
       " 264.43,\n",
       " 310.02,\n",
       " 286.86,\n",
       " 312.25,\n",
       " 331.18,\n",
       " 332.84,\n",
       " 311.96,\n",
       " 329.36,\n",
       " 338.03,\n",
       " 345.75,\n",
       " 276.23,\n",
       " 305.36,\n",
       " 274.99,\n",
       " 279.52,\n",
       " 278.52,\n",
       " 283.63,\n",
       " 322.3,\n",
       " 339.35,\n",
       " 288.2,\n",
       " 302.46,\n",
       " 350.8,\n",
       " 360.66,\n",
       " 269.37,\n",
       " 271.84,\n",
       " 328.4,\n",
       " 282.05,\n",
       " 264.76,\n",
       " 344.61,\n",
       " 345.17,\n",
       " 356.96,\n",
       " 310.57,\n",
       " 358.67,\n",
       " 266.33,\n",
       " 327.95,\n",
       " 268.17,\n",
       " 363.74,\n",
       " 288.8,\n",
       " 297.33,\n",
       " 301.26,\n",
       " 264.98,\n",
       " 298.05,\n",
       " 293.93,\n",
       " 293.48,\n",
       " 339.56,\n",
       " 261.89,\n",
       " 323.88,\n",
       " 338.88,\n",
       " 299.22,\n",
       " 296.83,\n",
       " 260.47,\n",
       " 333.37,\n",
       " 314.57,\n",
       " 296.79,\n",
       " 282.18,\n",
       " 278.94,\n",
       " 248.51,\n",
       " 297.46,\n",
       " 356.23,\n",
       " 286.32,\n",
       " 252.71,\n",
       " 267.76,\n",
       " 340.62,\n",
       " 300.76,\n",
       " 288.82,\n",
       " 289.03,\n",
       " 365.46,\n",
       " 293.28,\n",
       " 325.1,\n",
       " 332.38,\n",
       " 298.27,\n",
       " 279.35,\n",
       " 337.7,\n",
       " 312.38,\n",
       " 370.94,\n",
       " 317.05,\n",
       " 266.21,\n",
       " 283.38,\n",
       " 364.0,\n",
       " 247.28,\n",
       " 258.38,\n",
       " 330.96,\n",
       " 333.05,\n",
       " 287.31,\n",
       " 313.49,\n",
       " 302.27,\n",
       " 360.85,\n",
       " 279.82,\n",
       " 292.09,\n",
       " 321.23,\n",
       " 335.62,\n",
       " 281.14,\n",
       " 261.21,\n",
       " 299.41,\n",
       " 325.73,\n",
       " 300.09,\n",
       " 373.1,\n",
       " 277.32,\n",
       " 299.98,\n",
       " 283.27,\n",
       " 292.01,\n",
       " 267.96,\n",
       " 250.65,\n",
       " 281.89,\n",
       " 244.22,\n",
       " 286.77,\n",
       " 275.94,\n",
       " 325.84,\n",
       " 318.62,\n",
       " 267.79,\n",
       " 310.46,\n",
       " 292.14,\n",
       " 291.16,\n",
       " 310.12,\n",
       " 283.13,\n",
       " 281.41,\n",
       " 277.52,\n",
       " 332.88,\n",
       " 295.0,\n",
       " 275.82,\n",
       " 264.23,\n",
       " 347.24,\n",
       " 274.8,\n",
       " 245.62,\n",
       " 281.19,\n",
       " 296.32,\n",
       " 252.5,\n",
       " 313.45,\n",
       " 333.95,\n",
       " 310.52,\n",
       " 288.45,\n",
       " 343.76,\n",
       " 314.88,\n",
       " 274.63,\n",
       " 279.3,\n",
       " 263.48,\n",
       " 266.93,\n",
       " 258.56,\n",
       " 255.5,\n",
       " 299.16,\n",
       " 246.46,\n",
       " 251.24,\n",
       " 308.05,\n",
       " 354.94,\n",
       " 332.67,\n",
       " 258.42,\n",
       " 286.46,\n",
       " 318.78,\n",
       " 296.0,\n",
       " 301.92,\n",
       " 318.06,\n",
       " 296.81,\n",
       " 257.0,\n",
       " 290.32,\n",
       " 269.39,\n",
       " 294.74,\n",
       " 244.98,\n",
       " 288.84,\n",
       " 268.34,\n",
       " 273.27,\n",
       " 265.83,\n",
       " 319.21,\n",
       " 290.23,\n",
       " 319.52,\n",
       " 286.06,\n",
       " 305.9,\n",
       " 294.18,\n",
       " 281.27,\n",
       " 269.92,\n",
       " 276.25,\n",
       " 236.45,\n",
       " 260.53,\n",
       " 280.42,\n",
       " 309.21,\n",
       " 279.67,\n",
       " 252.73,\n",
       " 319.09,\n",
       " 332.51,\n",
       " 285.28,\n",
       " 233.33,\n",
       " 270.16,\n",
       " 285.43,\n",
       " 328.87,\n",
       " 355.62,\n",
       " 311.69,\n",
       " 276.54,\n",
       " 274.6,\n",
       " 331.82,\n",
       " 380.96,\n",
       " 248.72,\n",
       " 330.52,\n",
       " 348.14,\n",
       " 350.87,\n",
       " 348.25,\n",
       " 446.73,\n",
       " 370.74,\n",
       " 354.89,\n",
       " 243.94,\n",
       " 301.45,\n",
       " 361.84,\n",
       " 240.85,\n",
       " 328.71,\n",
       " 271.38,\n",
       " 251.0,\n",
       " 343.98,\n",
       " 238.93,\n",
       " 237.36,\n",
       " 279.87,\n",
       " 241.06,\n",
       " 254.68,\n",
       " 227.93,\n",
       " 224.39,\n",
       " 364.36,\n",
       " 261.85,\n",
       " 299.63,\n",
       " 261.07,\n",
       " 267.95,\n",
       " 293.74,\n",
       " 402.81,\n",
       " 263.69,\n",
       " 260.85,\n",
       " 280.17,\n",
       " 304.57,\n",
       " 246.31,\n",
       " 309.04,\n",
       " 329.68,\n",
       " 444.83,\n",
       " 280.92,\n",
       " 275.73,\n",
       " 287.28,\n",
       " 317.66,\n",
       " 309.16,\n",
       " 314.71,\n",
       " 304.1,\n",
       " 306.82,\n",
       " 346.87,\n",
       " 376.19,\n",
       " 261.74,\n",
       " 227.84,\n",
       " 294.2,\n",
       " 337.84,\n",
       " 299.74,\n",
       " 244.81,\n",
       " 291.47,\n",
       " 314.77,\n",
       " 329.15,\n",
       " 324.92,\n",
       " 314.74,\n",
       " 265.13,\n",
       " 313.04,\n",
       " 299.53,\n",
       " 294.72,\n",
       " 361.71,\n",
       " 246.19,\n",
       " 289.33,\n",
       " 303.96,\n",
       " 279.09,\n",
       " 312.06,\n",
       " 285.17,\n",
       " 346.11,\n",
       " 386.55,\n",
       " 337.27,\n",
       " 318.35,\n",
       " 298.34,\n",
       " 270.96,\n",
       " 259.33,\n",
       " 297.37,\n",
       " 405.29,\n",
       " 315.97,\n",
       " 298.36,\n",
       " 331.22,\n",
       " 270.7,\n",
       " 283.0,\n",
       " 317.99,\n",
       " 308.06,\n",
       " 271.11,\n",
       " 277.95,\n",
       " 301.95,\n",
       " 312.27,\n",
       " 336.26,\n",
       " 295.65,\n",
       " 292.17,\n",
       " 338.11,\n",
       " 295.03,\n",
       " 254.28,\n",
       " 263.07,\n",
       " 256.99,\n",
       " 320.89,\n",
       " 307.56,\n",
       " 339.27,\n",
       " 271.56,\n",
       " 324.67,\n",
       " 255.91,\n",
       " 344.23,\n",
       " 272.01]"
      ]
     },
     "execution_count": 31,
     "metadata": {},
     "output_type": "execute_result"
    }
   ],
   "source": [
    "meanPitch"
   ]
  },
  {
   "cell_type": "code",
   "execution_count": 33,
   "metadata": {},
   "outputs": [],
   "source": [
    "dataPitch=np.array(dataPitch)"
   ]
  },
  {
   "cell_type": "code",
   "execution_count": 34,
   "metadata": {},
   "outputs": [
    {
     "data": {
      "text/plain": [
       "(5, 444)"
      ]
     },
     "execution_count": 34,
     "metadata": {},
     "output_type": "execute_result"
    }
   ],
   "source": [
    "dataPitch.shape"
   ]
  },
  {
   "cell_type": "code",
   "execution_count": 40,
   "metadata": {},
   "outputs": [
    {
     "data": {
      "text/plain": [
       "array([[198.78, 198.86, 198.83, ..., 199.22, 199.46, 199.25],\n",
       "       [581.04, 588.65, 593.8 , ..., 585.92, 599.72, 582.78],\n",
       "       [291.97, 295.71, 282.22, ..., 255.91, 344.23, 272.01],\n",
       "       [248.19, 275.65, 245.06, ..., 234.9 , 312.42, 260.28],\n",
       "       [ 98.52,  91.07,  95.01, ...,  69.2 , 113.17,  63.44]])"
      ]
     },
     "execution_count": 40,
     "metadata": {},
     "output_type": "execute_result"
    }
   ],
   "source": [
    "dataPitch[::1]"
   ]
  },
  {
   "cell_type": "code",
   "execution_count": 76,
   "metadata": {},
   "outputs": [],
   "source": [
    "dataPitch=[minPitch,maxPitch,meanPitch,medianPitch,stdPitch]"
   ]
  },
  {
   "cell_type": "code",
   "execution_count": 64,
   "metadata": {},
   "outputs": [],
   "source": [
    "dataPitch.append(minPitch)\n",
    "dataPitch.append(maxPitch)\n",
    "dataPitch.append(meanPitch)\n",
    "dataPitch.append(medianPitch)\n",
    "dataPitch.append(stdPitch)"
   ]
  },
  {
   "cell_type": "code",
   "execution_count": 65,
   "metadata": {},
   "outputs": [],
   "source": [
    "dataPitch=np.array(dataPitch)"
   ]
  },
  {
   "cell_type": "code",
   "execution_count": 66,
   "metadata": {},
   "outputs": [
    {
     "data": {
      "text/plain": [
       "(5,)"
      ]
     },
     "execution_count": 66,
     "metadata": {},
     "output_type": "execute_result"
    }
   ],
   "source": [
    "dataPitch.shape"
   ]
  },
  {
   "cell_type": "code",
   "execution_count": 75,
   "metadata": {},
   "outputs": [
    {
     "data": {
      "text/plain": [
       "(444, 444, 444, 444, 444)"
      ]
     },
     "execution_count": 75,
     "metadata": {},
     "output_type": "execute_result"
    }
   ],
   "source": [
    "len(minPitch),len(maxPitch),len(meanPitch),len(medianPitch),len(stdPitch)"
   ]
  },
  {
   "cell_type": "code",
   "execution_count": 62,
   "metadata": {},
   "outputs": [
    {
     "data": {
      "text/plain": [
       "444"
      ]
     },
     "execution_count": 62,
     "metadata": {},
     "output_type": "execute_result"
    }
   ],
   "source": [
    "len(stdPitch)"
   ]
  },
  {
   "cell_type": "code",
   "execution_count": 77,
   "metadata": {},
   "outputs": [],
   "source": [
    "npArray=np.array(dataPitch)"
   ]
  },
  {
   "cell_type": "code",
   "execution_count": 78,
   "metadata": {},
   "outputs": [
    {
     "data": {
      "text/plain": [
       "(5, 444)"
      ]
     },
     "execution_count": 78,
     "metadata": {},
     "output_type": "execute_result"
    }
   ],
   "source": [
    "npArray.shape"
   ]
  },
  {
   "cell_type": "code",
   "execution_count": 79,
   "metadata": {},
   "outputs": [],
   "source": [
    "np.save(\"Pitch_5_Values_Data\",npArray)"
   ]
  },
  {
   "cell_type": "code",
   "execution_count": 91,
   "metadata": {},
   "outputs": [],
   "source": [
    "pitch=np.load(\"Pitch_5_Values_Data.npy\")"
   ]
  },
  {
   "cell_type": "code",
   "execution_count": 92,
   "metadata": {},
   "outputs": [
    {
     "data": {
      "text/plain": [
       "array([198.78, 581.04, 291.97, 248.19,  98.52])"
      ]
     },
     "execution_count": 92,
     "metadata": {},
     "output_type": "execute_result"
    }
   ],
   "source": [
    "pitch[0]"
   ]
  },
  {
   "cell_type": "code",
   "execution_count": 82,
   "metadata": {},
   "outputs": [],
   "source": [
    "newDf=pd.DataFrame(columns=[1,2,3,4,5])"
   ]
  },
  {
   "cell_type": "code",
   "execution_count": 85,
   "metadata": {},
   "outputs": [],
   "source": [
    "newDf[1]=minPitch\n",
    "newDf[2]=maxPitch\n",
    "newDf[3]=meanPitch\n",
    "newDf[4]=medianPitch\n",
    "newDf[5]=stdPitch"
   ]
  },
  {
   "cell_type": "code",
   "execution_count": 86,
   "metadata": {},
   "outputs": [
    {
     "data": {
      "text/plain": [
       "(444, 5)"
      ]
     },
     "execution_count": 86,
     "metadata": {},
     "output_type": "execute_result"
    }
   ],
   "source": [
    "newDf.shape"
   ]
  },
  {
   "cell_type": "code",
   "execution_count": 87,
   "metadata": {},
   "outputs": [],
   "source": [
    "ndArrData=newDf.to_numpy()"
   ]
  },
  {
   "cell_type": "code",
   "execution_count": 88,
   "metadata": {},
   "outputs": [
    {
     "data": {
      "text/plain": [
       "(444, 5)"
      ]
     },
     "execution_count": 88,
     "metadata": {},
     "output_type": "execute_result"
    }
   ],
   "source": [
    "ndArrData.shape"
   ]
  },
  {
   "cell_type": "code",
   "execution_count": 89,
   "metadata": {},
   "outputs": [
    {
     "data": {
      "text/plain": [
       "array([198.78, 581.04, 291.97, 248.19,  98.52])"
      ]
     },
     "execution_count": 89,
     "metadata": {},
     "output_type": "execute_result"
    }
   ],
   "source": [
    "ndArrData[0]"
   ]
  },
  {
   "cell_type": "code",
   "execution_count": 90,
   "metadata": {},
   "outputs": [],
   "source": [
    "np.save(\"Pitch_5_Values_Data\",ndArrData)"
   ]
  },
  {
   "cell_type": "code",
   "execution_count": null,
   "metadata": {},
   "outputs": [],
   "source": []
  }
 ],
 "metadata": {
  "kernelspec": {
   "display_name": "Python 3 (ipykernel)",
   "language": "python",
   "name": "python3"
  },
  "language_info": {
   "codemirror_mode": {
    "name": "ipython",
    "version": 3
   },
   "file_extension": ".py",
   "mimetype": "text/x-python",
   "name": "python",
   "nbconvert_exporter": "python",
   "pygments_lexer": "ipython3",
   "version": "3.8.0"
  }
 },
 "nbformat": 4,
 "nbformat_minor": 4
}
