{
 "cells": [
  {
   "cell_type": "code",
   "execution_count": 2,
   "metadata": {},
   "outputs": [],
   "source": [
    "import os\n",
    "import pickle\n",
    "from glob import iglob\n",
    "import numpy as np\n",
    "import librosa"
   ]
  },
  {
   "cell_type": "code",
   "execution_count": 1,
   "metadata": {},
   "outputs": [],
   "source": [
    "import pandas as pd\n",
    "import sys"
   ]
  },
  {
   "cell_type": "code",
   "execution_count": 4,
   "metadata": {},
   "outputs": [],
   "source": [
    "from keras.callbacks import ReduceLROnPlateau,ModelCheckpoint\n",
    "from keras.utils.np_utils import to_categorical\n",
    "import keras.backend as K\n",
    "from keras import regularizers\n",
    "from keras.layers import Lambda\n",
    "from keras.layers.convolutional import Conv1D, MaxPooling1D\n",
    "from keras.layers.core import Activation, Dense\n",
    "from keras.layers.normalization import BatchNormalization\n",
    "from keras.models import Sequential\n",
    "import numpy as np\n",
    "import pickle\n",
    "import os\n",
    "from glob import glob"
   ]
  },
  {
   "cell_type": "code",
   "execution_count": 8,
   "metadata": {},
   "outputs": [],
   "source": [
    "import keras_models as km\n",
    "from sklearn.metrics import recall_score,precision_score,f1_score\n",
    "def rec_pre_f1_MRS(y_test,pred_test):\n",
    "    rec=recall_score(y_test.tolist(),pred_test,average=None)\n",
    "    pre=precision_score(y_test.tolist(),pred_test,average=None)\n",
    "    f1=f1_score(y_test,pred_test,average=None)\n",
    "    return rec,pre,f1"
   ]
  },
  {
   "cell_type": "code",
   "execution_count": 3,
   "metadata": {},
   "outputs": [],
   "source": [
    "def read_audio_from_filename(filename, target_sr):\n",
    "    audio, _ = librosa.load(filename, sr=target_sr, mono=True)\n",
    "    audio = audio.reshape(-1, 1)\n",
    "    return audio"
   ]
  },
  {
   "cell_type": "code",
   "execution_count": 5,
   "metadata": {},
   "outputs": [],
   "source": [
    "DATA_AUDIO_DIR = \"/vol/work3/berhe/MRS_Detection/SceneAudio/\"\n",
    "TARGET_SR = 8000\n",
    "OUTPUT_DIR = \"/vol/work3/berhe/MRS_Detection/SceneAudio/\"\n",
    "AUDIO_LENGTH = 200000\n",
    "\n",
    "dataset_Df=pd.read_csv(\"Scene_Dataset_Normalized.csv\")\n",
    "sceneLabels=dataset_Df.MRS.tolist()\n",
    "sceneLabels=[i if i==0 else 1 for i in sceneLabels]\n",
    "def convert_data():\n",
    "    for i in range(1,445):\n",
    "        #print(\"Scene {}\".format(i))\n",
    "        sys.stdout.write('Scene %d\\r' % i)\n",
    "        sys.stdout.flush()\n",
    "        wav_filename=DATA_AUDIO_DIR+\"Scene_\"+str(i)+\".wav\"\n",
    "        #y, sr=librosa.load(audioFile)\n",
    "        class_id = sceneLabels[i-1]\n",
    "        audio_buf = read_audio_from_filename(wav_filename, target_sr=TARGET_SR)\n",
    "        # normalize mean 0, variance 1\n",
    "        audio_buf = (audio_buf - np.mean(audio_buf)) / np.std(audio_buf)\n",
    "        original_length = len(audio_buf)\n",
    "        print(i, wav_filename, original_length, np.round(np.mean(audio_buf), 4), np.std(audio_buf))\n",
    "        if original_length < AUDIO_LENGTH:\n",
    "            audio_buf = np.concatenate((audio_buf, np.zeros(shape=(AUDIO_LENGTH - original_length, 1))))\n",
    "            print('PAD New length =', len(audio_buf))\n",
    "        elif original_length > AUDIO_LENGTH:\n",
    "            audio_buf = audio_buf[original_length-AUDIO_LENGTH:original_length]\n",
    "            print('CUT New length =', len(audio_buf))\n",
    "\n",
    "        output_folder = OUTPUT_DIR\n",
    "\n",
    "        output_filename = os.path.join(output_folder, \"Scene_\"+str(i) + 'end.pkl')\n",
    "\n",
    "        out = {'class_id': class_id,\n",
    "               'audio': audio_buf,\n",
    "               'sr': TARGET_SR}\n",
    "        with open(output_filename, 'wb') as w:\n",
    "            pickle.dump(out, w)"
   ]
  },
  {
   "cell_type": "code",
   "execution_count": 6,
   "metadata": {},
   "outputs": [],
   "source": [
    "#convert_data()"
   ]
  },
  {
   "cell_type": "code",
   "execution_count": 9,
   "metadata": {},
   "outputs": [],
   "source": [
    "def m5(num_classes=5):\n",
    "    print('Using Model M5')\n",
    "    m = Sequential()\n",
    "    m.add(Conv1D(128,\n",
    "                 input_shape=[AUDIO_LENGTH, 1],\n",
    "                 kernel_size=80,\n",
    "                 strides=4,\n",
    "                 padding='same',\n",
    "                 kernel_initializer='glorot_uniform',\n",
    "                 kernel_regularizer=regularizers.l2(l=0.0001)))\n",
    "    m.add(BatchNormalization())\n",
    "    m.add(Activation('relu'))\n",
    "    m.add(MaxPooling1D(pool_size=4, strides=None))\n",
    "    m.add(Conv1D(128,\n",
    "                 kernel_size=3,\n",
    "                 strides=1,\n",
    "                 padding='same',\n",
    "                 kernel_initializer='glorot_uniform',\n",
    "                 kernel_regularizer=regularizers.l2(l=0.0001)))\n",
    "    m.add(BatchNormalization())\n",
    "    m.add(Activation('relu'))\n",
    "    m.add(MaxPooling1D(pool_size=4, strides=None))\n",
    "    m.add(Conv1D(256,\n",
    "                 kernel_size=3,\n",
    "                 strides=1,\n",
    "                 padding='same',\n",
    "                 kernel_initializer='glorot_uniform',\n",
    "                 kernel_regularizer=regularizers.l2(l=0.0001)))\n",
    "    m.add(BatchNormalization())\n",
    "    m.add(Activation('relu'))\n",
    "    m.add(MaxPooling1D(pool_size=4, strides=None))\n",
    "    m.add(Conv1D(512,\n",
    "                 kernel_size=3,\n",
    "                 strides=1,\n",
    "                 padding='same',\n",
    "                 kernel_initializer='glorot_uniform',\n",
    "                 kernel_regularizer=regularizers.l2(l=0.0001)))\n",
    "    m.add(BatchNormalization())\n",
    "    m.add(Activation('relu'))\n",
    "    m.add(MaxPooling1D(pool_size=4, strides=None))\n",
    "    m.add(Lambda(lambda x: K.mean(x, axis=1)))  # Same as GAP for 1D Conv Layer\n",
    "    m.add(Dense(num_classes, activation='softmax'))\n",
    "    return m\n"
   ]
  },
  {
   "cell_type": "code",
   "execution_count": 10,
   "metadata": {},
   "outputs": [],
   "source": [
    "def get_data(file_list):\n",
    "    def load_into(_filename, _x, _y):\n",
    "        with open(_filename, 'rb') as f:\n",
    "            audio_element = pickle.load(f)\n",
    "            _x.append(audio_element['audio'])\n",
    "            _y.append(int(audio_element['class_id']))\n",
    "\n",
    "    x, y = [], []\n",
    "    for filename in file_list:\n",
    "        load_into(filename, x, y)\n",
    "    return np.array(x), np.array(y)"
   ]
  },
  {
   "cell_type": "code",
   "execution_count": 50,
   "metadata": {},
   "outputs": [
    {
     "name": "stdout",
     "output_type": "stream",
     "text": [
      "Using Model M5\n"
     ]
    }
   ],
   "source": [
    "model = m5(num_classes=2)"
   ]
  },
  {
   "cell_type": "code",
   "execution_count": 51,
   "metadata": {},
   "outputs": [],
   "source": [
    "model.compile(optimizer='adam',\n",
    "                  loss='sparse_categorical_crossentropy',\n",
    "                  metrics=['accuracy'])"
   ]
  },
  {
   "cell_type": "code",
   "execution_count": 52,
   "metadata": {},
   "outputs": [],
   "source": [
    "train_files = glob(os.path.join(OUTPUT_DIR, '**end.pkl'))\n",
    "x_tr, y_tr = get_data(train_files)\n",
    "#y_tr = to_categorical(y_tr, num_classes=num_classes)"
   ]
  },
  {
   "cell_type": "code",
   "execution_count": 53,
   "metadata": {},
   "outputs": [
    {
     "name": "stdout",
     "output_type": "stream",
     "text": [
      "(444,) (147,)\n"
     ]
    }
   ],
   "source": [
    "x_train, x_test, y_train, y_test=km.processDataB(x_tr,y_tr,testSize=0.33)"
   ]
  },
  {
   "cell_type": "code",
   "execution_count": 54,
   "metadata": {},
   "outputs": [
    {
     "data": {
      "text/plain": [
       "((297, 200000, 1), (147, 200000, 1))"
      ]
     },
     "execution_count": 54,
     "metadata": {},
     "output_type": "execute_result"
    }
   ],
   "source": [
    "x_train.shape,x_test.shape"
   ]
  },
  {
   "cell_type": "code",
   "execution_count": 55,
   "metadata": {},
   "outputs": [
    {
     "name": "stdout",
     "output_type": "stream",
     "text": [
      "Train on 297 samples, validate on 147 samples\n",
      "Epoch 1/10\n",
      "297/297 [==============================] - 167s 564ms/step - loss: 0.6984 - accuracy: 0.7710 - val_loss: 0.6799 - val_accuracy: 0.8776\n",
      "Epoch 2/10\n",
      "297/297 [==============================] - 149s 502ms/step - loss: 0.5701 - accuracy: 0.8182 - val_loss: 0.6137 - val_accuracy: 0.8707\n",
      "Epoch 3/10\n",
      "297/297 [==============================] - 146s 491ms/step - loss: 0.5336 - accuracy: 0.8114 - val_loss: 0.5701 - val_accuracy: 0.8707\n",
      "Epoch 4/10\n",
      "297/297 [==============================] - 145s 488ms/step - loss: 0.5229 - accuracy: 0.8215 - val_loss: 0.6014 - val_accuracy: 0.8707\n",
      "Epoch 5/10\n",
      "297/297 [==============================] - 144s 486ms/step - loss: 0.5152 - accuracy: 0.8215 - val_loss: 0.6484 - val_accuracy: 0.8639\n",
      "Epoch 6/10\n",
      "297/297 [==============================] - 145s 487ms/step - loss: 0.5167 - accuracy: 0.8148 - val_loss: 0.6329 - val_accuracy: 0.8776\n",
      "Epoch 7/10\n",
      "297/297 [==============================] - 145s 489ms/step - loss: 0.5059 - accuracy: 0.8249 - val_loss: 0.6040 - val_accuracy: 0.8639\n",
      "Epoch 8/10\n",
      "297/297 [==============================] - 147s 495ms/step - loss: 0.5014 - accuracy: 0.8249 - val_loss: 0.6549 - val_accuracy: 0.8435\n",
      "Epoch 9/10\n",
      "297/297 [==============================] - 145s 488ms/step - loss: 0.4903 - accuracy: 0.8249 - val_loss: 0.6255 - val_accuracy: 0.8299\n",
      "Epoch 10/10\n",
      "297/297 [==============================] - 148s 498ms/step - loss: 0.5066 - accuracy: 0.8249 - val_loss: 0.6286 - val_accuracy: 0.8367\n"
     ]
    },
    {
     "data": {
      "text/plain": [
       "<keras.callbacks.callbacks.History at 0x7f265c41cd68>"
      ]
     },
     "execution_count": 55,
     "metadata": {},
     "output_type": "execute_result"
    }
   ],
   "source": [
    "checkpointer = ModelCheckpoint(filepath='weights.best.audioFile'+'.hdf5',\n",
    "                                   verbose=1, save_best_only=True)\n",
    "#callbacks=[checkpointer]\n",
    "model.fit(x=x_train,\n",
    "              y=y_train,\n",
    "              batch_size=64,\n",
    "              epochs=10,\n",
    "              verbose=1,\n",
    "              shuffle=True,\n",
    "              validation_data=(x_test, y_test)\n",
    "              )"
   ]
  },
  {
   "cell_type": "code",
   "execution_count": 56,
   "metadata": {},
   "outputs": [
    {
     "name": "stdout",
     "output_type": "stream",
     "text": [
      "(array([0.9453125 , 0.10526316]), array([0.87681159, 0.22222222]), array([0.90977444, 0.14285714]))\n"
     ]
    }
   ],
   "source": [
    "pred_test=model.predict_classes(x_test)\n",
    "print(rec_pre_f1_MRS(y_test,pred_test))"
   ]
  },
  {
   "cell_type": "code",
   "execution_count": 57,
   "metadata": {},
   "outputs": [
    {
     "data": {
      "text/plain": [
       "[0.6285640147267556, 0.8367347121238708]"
      ]
     },
     "execution_count": 57,
     "metadata": {},
     "output_type": "execute_result"
    }
   ],
   "source": [
    "model.evaluate(x_test, y_test, verbose=0)"
   ]
  },
  {
   "cell_type": "code",
   "execution_count": null,
   "metadata": {},
   "outputs": [],
   "source": []
  }
 ],
 "metadata": {
  "kernelspec": {
   "display_name": "Python 3 (ipykernel)",
   "language": "python",
   "name": "python3"
  },
  "language_info": {
   "codemirror_mode": {
    "name": "ipython",
    "version": 3
   },
   "file_extension": ".py",
   "mimetype": "text/x-python",
   "name": "python",
   "nbconvert_exporter": "python",
   "pygments_lexer": "ipython3",
   "version": "3.8.0"
  }
 },
 "nbformat": 4,
 "nbformat_minor": 4
}
