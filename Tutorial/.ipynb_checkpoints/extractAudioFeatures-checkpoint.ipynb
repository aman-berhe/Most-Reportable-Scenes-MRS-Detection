{
 "cells": [
  {
   "cell_type": "code",
   "execution_count": null,
   "metadata": {},
   "outputs": [],
   "source": [
    "#This works on audio_env enviroment\n",
    "import librosa\n",
    "import librosa.display as ldp"
   ]
  },
  {
   "cell_type": "code",
   "execution_count": null,
   "metadata": {},
   "outputs": [],
   "source": [
    "import numpy as np\n",
    "import pickle\n",
    "import sys\n",
    "import pandas as pd\n",
    "import warnings"
   ]
  },
  {
   "cell_type": "code",
   "execution_count": null,
   "metadata": {},
   "outputs": [],
   "source": [
    "warnings.filterwarnings('ignore')"
   ]
  },
  {
   "cell_type": "code",
   "execution_count": null,
   "metadata": {},
   "outputs": [],
   "source": [
    "audioDir=\"Data/SceneAudio/\"\n",
    "sceneID=1"
   ]
  },
  {
   "cell_type": "code",
   "execution_count": null,
   "metadata": {},
   "outputs": [],
   "source": [
    "audioFile=audioDir+\"Scene_\"+str(sceneID)+\".wav\"\n",
    "y, sr=librosa.load(audioFile)"
   ]
  },
  {
   "cell_type": "code",
   "execution_count": null,
   "metadata": {},
   "outputs": [],
   "source": [
    "mfccFeat=librosa.feature.mfcc(y,sr)"
   ]
  },
  {
   "cell_type": "code",
   "execution_count": null,
   "metadata": {},
   "outputs": [],
   "source": [
    "mfccFeat.shape"
   ]
  },
  {
   "cell_type": "code",
   "execution_count": null,
   "metadata": {},
   "outputs": [],
   "source": [
    "#\"\"\"\n",
    "#Compute the MFCC features of all scenes\n",
    "#sceneMFCC=[]\n",
    "scenemelSpect=[]\n",
    "spectral_centroid=[]\n",
    "tempoFeat=[]\n",
    "for i in range(1,445):\n",
    "    #print(\"Scene {}\".format(i))\n",
    "    sys.stdout.write('Scene %d\\r' % i)\n",
    "    sys.stdout.flush()\n",
    "    audioFile=audioDir+\"Scene_\"+str(i)+\".wav\"\n",
    "    y, sr=librosa.load(audioFile)\n",
    "    tem=librosa.beat.tempo(y,sr)\n",
    "    tempoFeat.append(tem)\n",
    "with open (\"Tempo_features_as_list\",'wb') as file:\n",
    "    pickle.dump(tempoFeat,file)\n",
    "#\"\"\""
   ]
  },
  {
   "cell_type": "code",
   "execution_count": null,
   "metadata": {},
   "outputs": [],
   "source": [
    "len(scenemelSpect)"
   ]
  },
  {
   "cell_type": "code",
   "execution_count": null,
   "metadata": {},
   "outputs": [],
   "source": [
    "scenemelSpect[6].shape"
   ]
  },
  {
   "cell_type": "code",
   "execution_count": null,
   "metadata": {},
   "outputs": [],
   "source": [
    "#Save MFCC features as pickle. List of mfcc features for each scene\n",
    "with open (\"spectral_centroid_features_as_list\",'wb') as file:\n",
    "    pickle.dump(spectral_centroid,file)"
   ]
  },
  {
   "cell_type": "code",
   "execution_count": null,
   "metadata": {},
   "outputs": [],
   "source": [
    "#Read scene MFCC features from file\n",
    "with open (\"MFCC_features_as_list\",'rb') as file:\n",
    "    sceneMFCC = pickle.load(file)"
   ]
  },
  {
   "cell_type": "code",
   "execution_count": null,
   "metadata": {},
   "outputs": [],
   "source": [
    "sceneMFCC[0].shape[1],sceneMFCC[1].shape"
   ]
  },
  {
   "cell_type": "code",
   "execution_count": null,
   "metadata": {},
   "outputs": [],
   "source": [
    "lengMFCC=[]\n",
    "for i in sceneMFCC:\n",
    "    lengMFCC.append(i.shape[1])"
   ]
  },
  {
   "cell_type": "code",
   "execution_count": null,
   "metadata": {},
   "outputs": [],
   "source": [
    "print(lengMFCC)"
   ]
  },
  {
   "cell_type": "code",
   "execution_count": null,
   "metadata": {},
   "outputs": [],
   "source": [
    "max(lengMFCC),min(lengMFCC),sum(lengMFCC)/len(lengMFCC)"
   ]
  },
  {
   "cell_type": "code",
   "execution_count": null,
   "metadata": {},
   "outputs": [],
   "source": [
    "import sklearn\n",
    "mfccs = sklearn.preprocessing.scale(sceneMFCC[0], axis=1)\n",
    "#print(mfccs.mean(axis=1))\n",
    "#print(mfccs.var(axis=1))\n",
    "librosa.display.specshow(mfccs, sr=sr, x_axis='time')"
   ]
  },
  {
   "cell_type": "code",
   "execution_count": null,
   "metadata": {},
   "outputs": [],
   "source": [
    "mfccs = sklearn.preprocessing.scale(sceneMFCC[1], axis=1)\n",
    "#print(mfccs.mean(axis=1))\n",
    "#print(mfccs.var(axis=1))\n",
    "librosa.display.specshow(mfccs, sr=sr, x_axis='time')"
   ]
  },
  {
   "cell_type": "code",
   "execution_count": null,
   "metadata": {},
   "outputs": [],
   "source": []
  }
 ],
 "metadata": {
  "kernelspec": {
   "display_name": "Python 3 (ipykernel)",
   "language": "python",
   "name": "python3"
  },
  "language_info": {
   "codemirror_mode": {
    "name": "ipython",
    "version": 3
   },
   "file_extension": ".py",
   "mimetype": "text/x-python",
   "name": "python",
   "nbconvert_exporter": "python",
   "pygments_lexer": "ipython3",
   "version": "3.8.0"
  }
 },
 "nbformat": 4,
 "nbformat_minor": 4
}
